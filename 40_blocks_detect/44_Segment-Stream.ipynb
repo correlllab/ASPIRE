{
 "cells": [
  {
   "cell_type": "markdown",
   "id": "575df7f1-1ff2-42f8-a201-cc0f9cac1ba4",
   "metadata": {},
   "source": [
    "# Init"
   ]
  },
  {
   "cell_type": "code",
   "execution_count": 1,
   "id": "cdde2ef3-941f-4efc-853e-c782974715a9",
   "metadata": {},
   "outputs": [],
   "source": [
    "### Standard ###\n",
    "import sys, os\n",
    "\n",
    "### Special ###\n",
    "import numpy as np\n",
    "\n",
    "### Local ###\n",
    "sys.path.append( \"../pddlstream/\" )\n",
    "from pddlstream.algorithms.meta import solve, create_parser\n",
    "from pddlstream.algorithms.search import solve_from_pddl\n",
    "from pddlstream.utils import read\n",
    "from pddlstream.language.constants import print_solution, PDDLProblem\n",
    "from pddlstream.utils import read, get_file_path, Profiler\n",
    "from pddlstream.language.constants import PDDLProblem, And, Equal, print_solution"
   ]
  },
  {
   "cell_type": "markdown",
   "id": "c2a76c4f-ee3f-4ce4-8774-19151eaaa39e",
   "metadata": {},
   "source": [
    "# Streams"
   ]
  },
  {
   "cell_type": "code",
   "execution_count": null,
   "id": "486fda06-d77c-4577-ae35-bfc94c85b675",
   "metadata": {},
   "outputs": [],
   "source": [
    "class Pose:\n",
    "    \"\"\" A named object, it's pose, and the surface that supports it \"\"\"\n",
    "    \n",
    "    def __init__( self, name, pose, surf ):\n",
    "        self.name = name\n",
    "        self.pose = pose\n",
    "        self.surf = surf # WARNING: I do not like that this is part of the predicate!\n",
    "\n",
    "\n",
    "def get_pose_stream( camera, detector, robot ):\n",
    "    \"\"\" ??? Return a function that returns poses ??? \"\"\"\n",
    "    # NOTE: ??? This function assumes that the camera, detector, and robot were initialized ???\n",
    "\n",
    "    blockNames  = ['redBlock', 'ylwBlock', 'bluBlock',]\n",
    "\n",
    "    def rtn_func():\n",
    "        \"\"\" ??? A function that returns poses ??? \"\"\"\n",
    "        pcd, rgbdImage = detector.real.get_PCD()\n",
    "        depthImage, colorImage = rgbdImage.depth, rgbdImage.color\n",
    "        urPose = robot.get_tcp_pose()\n",
    "        blocks = detector.getBlocksFromImages( colorImage, depthImage, urPose, display = False )\n",
    "\n",
    "        for i, blockName in enumerate( blockNames ):\n",
    "            pose = blocks[i].worldFrameCoords\n",
    "            # WARNING: I DO NOT KNOW WHY THIS IS A `yield` STATEMENT\n",
    "            yield Pose( blockName, pose, 'table' ) # WARNING: HACK, The supporting object is hardcoded"
   ]
  },
  {
   "cell_type": "markdown",
   "id": "67a9c695-50f5-472e-bc3c-1fc11534d192",
   "metadata": {},
   "source": [
    "# PDDLStream Context"
   ]
  },
  {
   "cell_type": "code",
   "execution_count": 2,
   "id": "1e828c03-15aa-4138-96e8-95ea394da483",
   "metadata": {},
   "outputs": [],
   "source": [
    "domain_pddl  = read( get_file_path( os.path.join(os.getcwd(), '30_pdls_test_01'), 'domain.pddl' ) )\n",
    "stream_pddl  = read( get_file_path( os.path.join(os.getcwd(), '30_pdls_test_01'), 'stream.pddl' ) )\n",
    "constant_map = {}"
   ]
  },
  {
   "cell_type": "code",
   "execution_count": 3,
   "id": "e31fd95e-def4-40da-a7ea-c4b1bf2ef0fb",
   "metadata": {},
   "outputs": [],
   "source": [
    "scan_cost = 1\n",
    "init      = [\n",
    "    Equal(('MoveCost',), 1),\n",
    "    Equal(('PickCost',), 1),\n",
    "    Equal(('PlaceCost',), 1),\n",
    "    Equal(('ScanCost',), scan_cost),\n",
    "]"
   ]
  },
  {
   "cell_type": "code",
   "execution_count": 4,
   "id": "2db8cedb-f6b0-4db4-bff3-021435ad9cb8",
   "metadata": {},
   "outputs": [],
   "source": [
    "blockNames  = ['redBlock', 'ylwBlock', 'bluBlock',]\n",
    "supportName = 'table'\n",
    "\n",
    "init += [\n",
    "    ('Observable', np.eye(4)),\n",
    "]\n",
    "\n",
    "for blockName in blockNames:\n",
    "    pose = np.eye(4)\n",
    "    init += [\n",
    "        ('Pose'  , blockName, pose), \n",
    "        ('AtPose', blockName, pose),\n",
    "        ('Scannable'   , blockName),\n",
    "        ('Registerable', blockName),\n",
    "        ('Graspable'   , blockName),\n",
    "        ('Uncertain'   , blockName),\n",
    "    ]\n",
    "\n",
    "goal = ('and',\n",
    "    ('on', 'ylwBlock', 'bluBlock',),\n",
    "    ('on', 'redBlock', 'ylwBlock',),\n",
    ")\n",
    "\n",
    "problem = PDDLProblem( domain_pddl, constant_map, stream_pddl, stream_map, init, goal )"
   ]
  },
  {
   "cell_type": "code",
   "execution_count": null,
   "id": "843a1ff2-7a35-4a99-ac62-492736417f05",
   "metadata": {},
   "outputs": [],
   "source": []
  }
 ],
 "metadata": {
  "kernelspec": {
   "display_name": "Python 3 (ipykernel)",
   "language": "python",
   "name": "python3"
  },
  "language_info": {
   "codemirror_mode": {
    "name": "ipython",
    "version": 3
   },
   "file_extension": ".py",
   "mimetype": "text/x-python",
   "name": "python",
   "nbconvert_exporter": "python",
   "pygments_lexer": "ipython3",
   "version": "3.9.18"
  }
 },
 "nbformat": 4,
 "nbformat_minor": 5
}
