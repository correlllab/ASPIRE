{
 "cells": [
  {
   "cell_type": "code",
   "execution_count": 1,
   "metadata": {},
   "outputs": [
    {
     "name": "stdout",
     "output_type": "stream",
     "text": [
      "Jupyter environment detected. Enabling Open3D WebVisualizer.\n",
      "[Open3D INFO] WebRTC GUI backend enabled.\n",
      "[Open3D INFO] WebRTCWindowSystem: HTTP handshake server disabled.\n"
     ]
    }
   ],
   "source": [
    "from magpie import grasp as gt\n",
    "import rtde_control\n",
    "import rtde_receive\n",
    "from magpie.motor_code import Motors\n",
    "from magpie import ur5 as ur5\n",
    "import time\n",
    "import numpy as np\n",
    "import copy"
   ]
  },
  {
   "cell_type": "code",
   "execution_count": 2,
   "metadata": {},
   "outputs": [
    {
     "data": {
      "text/plain": [
       "<module 'magpie.ur5' from '/home/will/MAGPIE/magpie/ur5.py'>"
      ]
     },
     "execution_count": 2,
     "metadata": {},
     "output_type": "execute_result"
    }
   ],
   "source": [
    "import importlib\n",
    "importlib.reload(gt)\n",
    "importlib.reload(ur5)"
   ]
  },
  {
   "cell_type": "code",
   "execution_count": 3,
   "metadata": {},
   "outputs": [],
   "source": [
    "# tmat = np.array([[ 0.91574736, -0.35602909,  0.18614527, -0.02848649],\n",
    "#        [-0.40073104, -0.77640133,  0.48643151,  0.14332736],\n",
    "#        [ 0.02866033,  0.52004256,  0.85365937,  0.33750796],\n",
    "#        [ 0.        ,  0.        ,  0.        ,  1.        ]])\n",
    "\n",
    "tmat = np.array([[ 0.94506831, -0.26542847, -0.19077109,  0.04587254],\n",
    "       [-0.31977141, -0.87173858, -0.37123859,  0.03873094],\n",
    "       [-0.06776523,  0.41184897, -0.90872895,  0.23995551],\n",
    "       [ 0.        ,  0.        ,  0.        ,  1.        ]])\n",
    "\n",
    "mmc = tmat[:3, 3]\n",
    "# grasp_pose = [mmc[1], -mmc[0], mmc[2]]\n",
    "grasp_pose = mmc\n",
    "tmat[:3, 3] = [0, 0, 0]"
   ]
  },
  {
   "cell_type": "code",
   "execution_count": 6,
   "metadata": {},
   "outputs": [
    {
     "name": "stdout",
     "output_type": "stream",
     "text": [
      "Succeeded to open the port\n",
      "Succeeded to change the baudrate\n",
      "Moving speed of dxl ID: 1 set to 100 \n",
      "Moving speed of dxl ID: 2 set to 100 \n",
      "Moving speed of dxl ID: 1 set to 100 \n",
      "Moving speed of dxl ID: 2 set to 100 \n",
      "Succeeded to open the port\n",
      "Succeeded to change the baudrate\n",
      "Moving speed of dxl ID: 1 set to 100 \n",
      "Moving speed of dxl ID: 2 set to 100 \n",
      "UR5 Interface Established\n",
      "Home Pose:  [[-0.997  0.081 -0.017 -0.088]\n",
      " [ 0.08   0.888 -0.452 -0.548]\n",
      " [-0.022 -0.452 -0.892  0.216]\n",
      " [ 0.     0.     0.     1.   ]]\n",
      "Pose Check:    \u001b[38;5;1m-0.9966  \u001b[0m \u001b[38;5;1m 0.081   \u001b[0m \u001b[38;5;1m-0.01658 \u001b[0m \u001b[38;5;4m-0.08792 \u001b[0m  \u001b[0m\n",
      "  \u001b[38;5;1m 0.07973 \u001b[0m \u001b[38;5;1m 0.8883  \u001b[0m \u001b[38;5;1m-0.4523  \u001b[0m \u001b[38;5;4m-0.5482  \u001b[0m  \u001b[0m\n",
      "  \u001b[38;5;1m-0.02191 \u001b[0m \u001b[38;5;1m-0.452   \u001b[0m \u001b[38;5;1m-0.8917  \u001b[0m \u001b[38;5;4m 0.2156  \u001b[0m  \u001b[0m\n",
      "  \u001b[38;5;244m 0       \u001b[0m \u001b[38;5;244m 0       \u001b[0m \u001b[38;5;244m 0       \u001b[0m \u001b[38;5;244m 1       \u001b[0m  \u001b[0m\n",
      "\n",
      "[[-0.997  0.081 -0.017 -0.088]\n",
      " [ 0.08   0.888 -0.452 -0.548]\n",
      " [-0.022 -0.452 -0.892  0.216]\n",
      " [ 0.     0.     0.     1.   ]]\n",
      "P_goal:\n",
      "[-0.017 -0.044 -0.222]\n",
      "currentPose: [[-0.997  0.081 -0.017 -0.105]\n",
      " [ 0.08   0.888 -0.452 -0.593]\n",
      " [-0.022 -0.452 -0.892  0.216]\n",
      " [ 0.     0.     0.     1.   ]]\n",
      "Desired Pose:  [[-0.967  0.187  0.175 -0.105]\n",
      " [-0.178 -0.982  0.066 -0.593]\n",
      " [ 0.184  0.033  0.982  0.216]\n",
      " [ 0.     0.     0.     1.   ]]\n",
      "Done moving to block\n"
     ]
    },
    {
     "name": "stderr",
     "output_type": "stream",
     "text": [
      "RTDEControlInterface: RTDE control script is not running!\n",
      "RTDEControlInterface: RTDE control script is not running!\n"
     ]
    }
   ],
   "source": [
    "# Full test\n",
    "sleepRate = 1.5\n",
    "try:\n",
    "    robotIP = \"192.168.0.6\"\n",
    "    # con = rtde_control.RTDEControlInterface(robotIP)\n",
    "    # rec = rtde_receive.RTDEReceiveInterface(robotIP)\n",
    "    ur = ur5.UR5_Interface()\n",
    "    servoPort = \"/dev/ttyACM0\"\n",
    "    gripperController = Motors(servoPort)\n",
    "    gripperController.torquelimit(600) # used to be 600\n",
    "    gripperController.speedlimit(100)\n",
    "    try:\n",
    "        ur.start()\n",
    "        ur.gripper = gripperController\n",
    "    except Exception as e:\n",
    "        raise(e)\n",
    "    else:\n",
    "        print(\"UR5 Interface Established\")\n",
    "            \n",
    "    homePose = ur.get_tcp_pose()\n",
    "    pcheck = ur.getPose()\n",
    "    print(\"Home Pose: \", homePose)\n",
    "    print(\"Pose Check: \", pcheck)\n",
    "    \n",
    "    dX,dY,dZ = gt.get_world_frame(grasp_pose, ur)\n",
    "    \n",
    "\n",
    "    '''\n",
    "    stopping point 2/15:\n",
    "    this works so far\n",
    "    take home pos\n",
    "    add translation on the gripper frame to the goal x, y\n",
    "    apply tmat to the goal\n",
    "    move to goal (translates on x, y and orients at the same time)\n",
    "    ## does this address the fact that orientation is not achievable in standstill?\n",
    "\n",
    "    then: take orig Z (from original gripper frame): [0, 0, dZ]\n",
    "    transform by tmat (the current orientation of the gripper)\n",
    "    add transformed dZ to the goal position\n",
    "    move\n",
    "    works!\n",
    "    '''\n",
    "    goal1 = copy.deepcopy(homePose)\n",
    "    goal1 = np.array(goal1)\n",
    "    goal1[:3, 3] += [dX, dY, 0]\n",
    "    # goal1.t[0] += dX\n",
    "    # goal1.t[1] += dY\n",
    "    goal1 = np.array(goal1) @ tmat\n",
    "    # goal1 = np.array(goal1)\n",
    "    ur.moveL(goal1)\n",
    "\n",
    "    # todo: take currentPose and validate orientation?\n",
    "    time.sleep(sleepRate)\n",
    "    goal2 = goal1\n",
    "    z_off = -0.00\n",
    "    # posd = [0, 0, dZ - z_off] @ tmat[:3, :3]\n",
    "    posd = [0, 0, dZ - z_off]\n",
    "    goal2 = np.array(goal2)\n",
    "    goal2[:3, 3] += posd\n",
    "    # ur.moveL(goal2)\n",
    "\n",
    "    # goal2.t[2] += dZ - 0.03\n",
    "    # goal3 = np.array(goal2) @ tmat\n",
    "    # ur.moveL(goal3)\n",
    "    # time.sleep(sleepRate)\n",
    "\n",
    "    '''\n",
    "    end of working section\n",
    "    '''\n",
    "    \n",
    "    currentPose = ur.get_tcp_pose()\n",
    "    # desiredPose = np.matmul(np.array(currentPose), np.linalg.inv(tmat))\n",
    "    # pos = np.array(currentPose.t)\n",
    "    desiredPose = np.matmul(np.array(currentPose), tmat)\n",
    "    # desiredPose[:3, 3] = pos\n",
    "    # desiredPose = np.matmul(np.array(currentPose), tmat_full)\n",
    "    print(f\"currentPose: {currentPose}\")\n",
    "    print(\"Desired Pose: \", desiredPose)\n",
    "    # ur.moveL(desiredPose)\n",
    "    \n",
    "    #gt.moveToObj(grasp_pose, ur) \n",
    "    \n",
    "\n",
    "    print(\"Done moving to block\")\n",
    "    # ur.closeGripper(9) \n",
    "    time.sleep(sleepRate)\n",
    "    # gt.moveBackFromObj(homePose, ur)\n",
    "    # gt.grabStrat1(grasp_pose)\n",
    "    ur.moveL(homePose)\n",
    "    time.sleep(sleepRate)\n",
    "    # ur.openGripper()\n",
    "    ur.stop()\n",
    "except Exception as e:\n",
    "    gripperController.openGripper()\n",
    "    gripperController.disconnect()\n",
    "    ur.stop()\n",
    "    raise(e)"
   ]
  },
  {
   "cell_type": "code",
   "execution_count": 5,
   "metadata": {},
   "outputs": [
    {
     "name": "stdout",
     "output_type": "stream",
     "text": [
      "UR5 Interface Established\n"
     ]
    },
    {
     "ename": "AttributeError",
     "evalue": "'NoneType' object has no attribute 'moveL'",
     "output_type": "error",
     "traceback": [
      "\u001b[0;31m---------------------------------------------------------------------------\u001b[0m",
      "\u001b[0;31mAttributeError\u001b[0m                            Traceback (most recent call last)",
      "Cell \u001b[0;32mIn[5], line 39\u001b[0m\n\u001b[1;32m     37\u001b[0m ur\u001b[38;5;241m.\u001b[39mc\u001b[38;5;241m.\u001b[39mdisconnect()\n\u001b[1;32m     38\u001b[0m ur\u001b[38;5;241m.\u001b[39mr\u001b[38;5;241m.\u001b[39mdisconnect()\n\u001b[0;32m---> 39\u001b[0m \u001b[38;5;28;01mraise\u001b[39;00m(e)\n",
      "Cell \u001b[0;32mIn[5], line 32\u001b[0m\n\u001b[1;32m     19\u001b[0m     \u001b[38;5;28mprint\u001b[39m(\u001b[38;5;124m\"\u001b[39m\u001b[38;5;124mUR5 Interface Established\u001b[39m\u001b[38;5;124m\"\u001b[39m)\n\u001b[1;32m     21\u001b[0m \u001b[38;5;66;03m# homePose = ur.getPose()\u001b[39;00m\n\u001b[1;32m     22\u001b[0m \u001b[38;5;66;03m# gt.moveToObj(grasp_pose, ur) \u001b[39;00m\n\u001b[1;32m     23\u001b[0m \u001b[38;5;66;03m# print(\"Done moving to block\")\u001b[39;00m\n\u001b[0;32m   (...)\u001b[0m\n\u001b[1;32m     30\u001b[0m \u001b[38;5;66;03m# print(f\"currentPose: {currentPose}\")\u001b[39;00m\n\u001b[1;32m     31\u001b[0m \u001b[38;5;66;03m# print(\"Desired Pose: \", desiredPose)\u001b[39;00m\n\u001b[0;32m---> 32\u001b[0m \u001b[43mur\u001b[49m\u001b[38;5;241;43m.\u001b[39;49m\u001b[43mmoveL\u001b[49m\u001b[43m(\u001b[49m\u001b[43mhomePose\u001b[49m\u001b[43m)\u001b[49m\n\u001b[1;32m     34\u001b[0m ur\u001b[38;5;241m.\u001b[39mc\u001b[38;5;241m.\u001b[39mdisconnect()\n\u001b[1;32m     35\u001b[0m ur\u001b[38;5;241m.\u001b[39mr\u001b[38;5;241m.\u001b[39mdisconnect()\n",
      "File \u001b[0;32m~/MAGPIE/magpie/ur5.py:164\u001b[0m, in \u001b[0;36mUR5_Interface.moveL\u001b[0;34m(self, poseMatrix, linSpeed, linAccel, asynch)\u001b[0m\n\u001b[1;32m    161\u001b[0m \u001b[38;5;250m\u001b[39m\u001b[38;5;124;03m\"\"\" Moves tool tip pose linearly in cartesian space to goal pose (requires tool pose to be configured) \"\"\"\u001b[39;00m\n\u001b[1;32m    162\u001b[0m \u001b[38;5;66;03m# poseMatrix is a SE3 Object (4 x 4 Homegenous Transform) or numpy array\u001b[39;00m\n\u001b[1;32m    163\u001b[0m \u001b[38;5;66;03m# tool pose defined relative to the end of the gripper when closed\u001b[39;00m\n\u001b[0;32m--> 164\u001b[0m \u001b[38;5;28;43mself\u001b[39;49m\u001b[38;5;241;43m.\u001b[39;49m\u001b[43mctrl\u001b[49m\u001b[38;5;241;43m.\u001b[39;49m\u001b[43mmoveL\u001b[49m( homog_coord_to_pose_vector( poseMatrix ), linSpeed, linAccel, asynch )\n",
      "\u001b[0;31mAttributeError\u001b[0m: 'NoneType' object has no attribute 'moveL'"
     ]
    }
   ],
   "source": [
    "# Full test\n",
    "sleepRate = 1.5\n",
    "\n",
    "mc = [0.018320640872559864, 0.05933741490882, 0.2980767279668537]\n",
    "grasp_pose = mc\n",
    "# grasp_pose = [mc[1], -mc[0], mc[2]]\n",
    "\n",
    "try:\n",
    "    robotIP = \"192.168.0.6\"\n",
    "    con = rtde_control.RTDEControlInterface(robotIP)\n",
    "    rec = rtde_receive.RTDEReceiveInterface(robotIP)\n",
    "    ur = ur5.UR5_Interface()\n",
    "    try:\n",
    "        ur.c = con\n",
    "        ur.r = rec\n",
    "    except Exception as e:\n",
    "        raise(e)\n",
    "    else:\n",
    "        print(\"UR5 Interface Established\")\n",
    "            \n",
    "    # homePose = ur.getPose()\n",
    "    # gt.moveToObj(grasp_pose, ur) \n",
    "    # print(\"Done moving to block\")\n",
    "    # ur.closeGripper(9) \n",
    "    # time.sleep(sleepRate)\n",
    "    # gt.moveBackFromObj(homePose, ur)\n",
    "    # ur.openGripper()\n",
    "    # currentPose = ur.getPose()\n",
    "    # desiredPose = np.matmul(np.array(currentPose), tmat)\n",
    "    # print(f\"currentPose: {currentPose}\")\n",
    "    # print(\"Desired Pose: \", desiredPose)\n",
    "    ur.moveL(homePose)\n",
    "\n",
    "    ur.c.disconnect()\n",
    "    ur.r.disconnect()\n",
    "except Exception as e:\n",
    "    ur.c.disconnect()\n",
    "    ur.r.disconnect()\n",
    "    raise(e)"
   ]
  },
  {
   "cell_type": "code",
   "execution_count": null,
   "metadata": {},
   "outputs": [],
   "source": []
  }
 ],
 "metadata": {
  "kernelspec": {
   "display_name": "Python 3",
   "language": "python",
   "name": "python3"
  },
  "language_info": {
   "codemirror_mode": {
    "name": "ipython",
    "version": 3
   },
   "file_extension": ".py",
   "mimetype": "text/x-python",
   "name": "python",
   "nbconvert_exporter": "python",
   "pygments_lexer": "ipython3",
   "version": "3.10.12"
  }
 },
 "nbformat": 4,
 "nbformat_minor": 2
}
