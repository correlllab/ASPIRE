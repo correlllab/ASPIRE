{
 "cells": [
  {
   "cell_type": "code",
   "execution_count": 3,
   "metadata": {},
   "outputs": [],
   "source": [
    "from magpie import grasp as gt\n",
    "import rtde_control\n",
    "import rtde_receive\n",
    "from magpie.motor_code import Motors\n",
    "from magpie import ur5 as ur5\n",
    "import time\n",
    "import numpy as np\n",
    "import copy"
   ]
  },
  {
   "cell_type": "code",
   "execution_count": 4,
   "metadata": {},
   "outputs": [
    {
     "data": {
      "text/plain": [
       "<module 'magpie.ur5' from '/home/will/MAGPIE/magpie/ur5.py'>"
      ]
     },
     "execution_count": 4,
     "metadata": {},
     "output_type": "execute_result"
    }
   ],
   "source": [
    "import importlib\n",
    "importlib.reload(gt)\n",
    "importlib.reload(ur5)"
   ]
  },
  {
   "cell_type": "code",
   "execution_count": 26,
   "metadata": {},
   "outputs": [],
   "source": [
    "# tmat = np.array([[ 0.91574736, -0.35602909,  0.18614527, -0.02848649],\n",
    "#        [-0.40073104, -0.77640133,  0.48643151,  0.14332736],\n",
    "#        [ 0.02866033,  0.52004256,  0.85365937,  0.33750796],\n",
    "#        [ 0.        ,  0.        ,  0.        ,  1.        ]])\n",
    "\n",
    "tmat = np.array([[ 0.9401755 , -0.34018102, -0.01862539, -0.09287199],\n",
    "       [ 0.34020501,  0.94034924, -0.00196259,  0.0074593 ],\n",
    "       [ 0.018182  , -0.00449127,  0.99982461,  0.25738291],\n",
    "       [ 0.        ,  0.        ,  0.        ,  1.        ]])\n",
    "\n",
    "z_offset = 0.103\n",
    "\n",
    "mmc = copy.deepcopy(tmat[:3, 3])\n",
    "# grasp_pose = [mmc[1], -mmc[0], mmc[2]]\n",
    "grasp_pose = mmc\n",
    "tmat[:3, 3] = [0, 0, 0]\n",
    "homePose = None"
   ]
  },
  {
   "cell_type": "code",
   "execution_count": 24,
   "metadata": {},
   "outputs": [
    {
     "name": "stdout",
     "output_type": "stream",
     "text": [
      "Succeeded to open the port\n",
      "Succeeded to change the baudrate\n",
      "Moving speed of dxl ID: 1 set to 100 \n",
      "Moving speed of dxl ID: 2 set to 100 \n",
      "Desired Pose:  [[-0.981 -0.036 -0.19  -0.046]\n",
      " [ 0.086  0.798 -0.597 -0.475]\n",
      " [ 0.173 -0.602 -0.78   0.133]\n",
      " [ 0.     0.     0.     1.   ]]\n",
      "[[ 9.999e-01  7.647e-03 -9.051e-03 -4.576e-02]\n",
      " [ 7.645e-03 -1.000e+00 -2.816e-04 -4.750e-01]\n",
      " [-9.052e-03  2.124e-04 -1.000e+00  1.327e-01]\n",
      " [ 0.000e+00  0.000e+00  0.000e+00  1.000e+00]]\n",
      "P_goal:\n",
      "[ 0.062  0.009 -0.169]\n",
      "Done moving to block\n"
     ]
    }
   ],
   "source": [
    "# orient gripper in place OR move gripper to cartesian pos\n",
    "sleepRate = 1.5\n",
    "ur = ur5.UR5_Interface()\n",
    "try:\n",
    "    ur.start()\n",
    "    # homePose = ur.get_tcp_pose()\n",
    "    homePose = ur.getPose()\n",
    "    currentPose = ur.getPose()\n",
    "    desiredPose = np.matmul(np.array(currentPose), tmat)\n",
    "    print(\"Desired Pose: \", desiredPose)\n",
    "    # in-place (or best attempt) re-orientation\n",
    "    # ur.moveL(desiredPose)\n",
    "    ## move to cartesian pos\n",
    "    gt.move_to(grasp_pose, ur, z_offset=0.093)    \n",
    "    print(\"Done moving to block\")\n",
    "    time.sleep(sleepRate)\n",
    "    time.sleep(sleepRate)\n",
    "    ur.stop()\n",
    "except Exception as e:\n",
    "    ur.stop()\n",
    "    raise(e)"
   ]
  },
  {
   "cell_type": "code",
   "execution_count": 25,
   "metadata": {},
   "outputs": [
    {
     "name": "stdout",
     "output_type": "stream",
     "text": [
      "Succeeded to open the port\n",
      "Succeeded to change the baudrate\n",
      "Moving speed of dxl ID: 1 set to 100 \n",
      "Moving speed of dxl ID: 2 set to 100 \n"
     ]
    }
   ],
   "source": [
    "# move home\n",
    "ur = ur5.UR5_Interface()\n",
    "try:\n",
    "    ur.start()\n",
    "    # time.sleep(sleepRate)\n",
    "    ur.moveL(homePose)\n",
    "    time.sleep(sleepRate)\n",
    "    ur.stop()\n",
    "except Exception as e:\n",
    "    ur.stop()"
   ]
  },
  {
   "cell_type": "code",
   "execution_count": 27,
   "metadata": {},
   "outputs": [
    {
     "name": "stdout",
     "output_type": "stream",
     "text": [
      "Succeeded to open the port\n",
      "Succeeded to change the baudrate\n",
      "Moving speed of dxl ID: 1 set to 100 \n",
      "Moving speed of dxl ID: 2 set to 100 \n",
      "[[ 9.999e-01  7.743e-03 -9.016e-03 -4.573e-02]\n",
      " [ 7.741e-03 -1.000e+00 -2.933e-04 -4.750e-01]\n",
      " [-9.018e-03  2.234e-04 -1.000e+00  1.327e-01]\n",
      " [ 0.000e+00  0.000e+00  0.000e+00  1.000e+00]]\n",
      "P_goal:\n",
      "[-0.094 -0.008 -0.154]\n"
     ]
    }
   ],
   "source": [
    "# orient and move gripper to cartesian pos\n",
    "sleepRate = 1.5\n",
    "ur = ur5.UR5_Interface()\n",
    "try:\n",
    "    servoPort = \"/dev/ttyACM0\"\n",
    "    ur.start()\n",
    "    time.sleep(sleepRate)\n",
    "    homePose = ur.get_tcp_pose()\n",
    "    dX,dY,dZ = gt.get_world_frame(grasp_pose, ur, z_offset=0.086)\n",
    "    \n",
    "\n",
    "    '''\n",
    "    stopping point 2/15:\n",
    "    this works so far\n",
    "    take home pos\n",
    "    add translation on the gripper frame to the goal x, y\n",
    "    apply tmat to the goal\n",
    "    move to goal (translates on x, y and orients at the same time)\n",
    "    ## does this address the fact that orientation is not achievable in standstill?\n",
    "\n",
    "    then: take orig Z (from original gripper frame): [0, 0, dZ]\n",
    "    transform by tmat (the current orientation of the gripper)\n",
    "    add transformed dZ to the goal position\n",
    "    move\n",
    "    works!\n",
    "    '''\n",
    "    goal1 = copy.deepcopy(homePose)\n",
    "    goal1 = np.array(goal1)\n",
    "    goal1[:3, 3] += [dX, dY, 0]\n",
    "    goal1 = np.array(goal1) @ tmat\n",
    "    ur.moveL(goal1)\n",
    "    time.sleep(sleepRate)\n",
    "\n",
    "    # todo: take currentPose and validate orientation?\n",
    "    goal2 = goal1\n",
    "    z_off = -0.00\n",
    "    posd = [0, 0, dZ - z_off] @ tmat[:3, :3]\n",
    "    # posd = [0, 0, dZ - z_off]\n",
    "    goal2 = np.array(goal2)\n",
    "    goal2[:3, 3] += posd\n",
    "    ur.moveL(goal2)\n",
    "    time.sleep(sleepRate)\n",
    "    '''\n",
    "    end of working section\n",
    "    '''\n",
    "    ur.stop()\n",
    "except Exception as e:\n",
    "    ur.stop()\n",
    "    raise(e)"
   ]
  },
  {
   "cell_type": "code",
   "execution_count": 5,
   "metadata": {},
   "outputs": [
    {
     "name": "stdout",
     "output_type": "stream",
     "text": [
      "UR5 Interface Established\n"
     ]
    },
    {
     "ename": "AttributeError",
     "evalue": "'NoneType' object has no attribute 'moveL'",
     "output_type": "error",
     "traceback": [
      "\u001b[0;31m---------------------------------------------------------------------------\u001b[0m",
      "\u001b[0;31mAttributeError\u001b[0m                            Traceback (most recent call last)",
      "Cell \u001b[0;32mIn[5], line 39\u001b[0m\n\u001b[1;32m     37\u001b[0m ur\u001b[38;5;241m.\u001b[39mc\u001b[38;5;241m.\u001b[39mdisconnect()\n\u001b[1;32m     38\u001b[0m ur\u001b[38;5;241m.\u001b[39mr\u001b[38;5;241m.\u001b[39mdisconnect()\n\u001b[0;32m---> 39\u001b[0m \u001b[38;5;28;01mraise\u001b[39;00m(e)\n",
      "Cell \u001b[0;32mIn[5], line 32\u001b[0m\n\u001b[1;32m     19\u001b[0m     \u001b[38;5;28mprint\u001b[39m(\u001b[38;5;124m\"\u001b[39m\u001b[38;5;124mUR5 Interface Established\u001b[39m\u001b[38;5;124m\"\u001b[39m)\n\u001b[1;32m     21\u001b[0m \u001b[38;5;66;03m# homePose = ur.getPose()\u001b[39;00m\n\u001b[1;32m     22\u001b[0m \u001b[38;5;66;03m# gt.moveToObj(grasp_pose, ur) \u001b[39;00m\n\u001b[1;32m     23\u001b[0m \u001b[38;5;66;03m# print(\"Done moving to block\")\u001b[39;00m\n\u001b[0;32m   (...)\u001b[0m\n\u001b[1;32m     30\u001b[0m \u001b[38;5;66;03m# print(f\"currentPose: {currentPose}\")\u001b[39;00m\n\u001b[1;32m     31\u001b[0m \u001b[38;5;66;03m# print(\"Desired Pose: \", desiredPose)\u001b[39;00m\n\u001b[0;32m---> 32\u001b[0m \u001b[43mur\u001b[49m\u001b[38;5;241;43m.\u001b[39;49m\u001b[43mmoveL\u001b[49m\u001b[43m(\u001b[49m\u001b[43mhomePose\u001b[49m\u001b[43m)\u001b[49m\n\u001b[1;32m     34\u001b[0m ur\u001b[38;5;241m.\u001b[39mc\u001b[38;5;241m.\u001b[39mdisconnect()\n\u001b[1;32m     35\u001b[0m ur\u001b[38;5;241m.\u001b[39mr\u001b[38;5;241m.\u001b[39mdisconnect()\n",
      "File \u001b[0;32m~/MAGPIE/magpie/ur5.py:164\u001b[0m, in \u001b[0;36mUR5_Interface.moveL\u001b[0;34m(self, poseMatrix, linSpeed, linAccel, asynch)\u001b[0m\n\u001b[1;32m    161\u001b[0m \u001b[38;5;250m\u001b[39m\u001b[38;5;124;03m\"\"\" Moves tool tip pose linearly in cartesian space to goal pose (requires tool pose to be configured) \"\"\"\u001b[39;00m\n\u001b[1;32m    162\u001b[0m \u001b[38;5;66;03m# poseMatrix is a SE3 Object (4 x 4 Homegenous Transform) or numpy array\u001b[39;00m\n\u001b[1;32m    163\u001b[0m \u001b[38;5;66;03m# tool pose defined relative to the end of the gripper when closed\u001b[39;00m\n\u001b[0;32m--> 164\u001b[0m \u001b[38;5;28;43mself\u001b[39;49m\u001b[38;5;241;43m.\u001b[39;49m\u001b[43mctrl\u001b[49m\u001b[38;5;241;43m.\u001b[39;49m\u001b[43mmoveL\u001b[49m( homog_coord_to_pose_vector( poseMatrix ), linSpeed, linAccel, asynch )\n",
      "\u001b[0;31mAttributeError\u001b[0m: 'NoneType' object has no attribute 'moveL'"
     ]
    }
   ],
   "source": [
    "# orient and move gripper to cartesian pos\n",
    "sleepRate = 1.5\n",
    "ur = ur5.UR5_Interface()\n",
    "try:\n",
    "    servoPort = \"/dev/ttyACM0\"\n",
    "    gripperController = Motors(servoPort)\n",
    "    gripperController.torquelimit(600) # used to be 600\n",
    "    gripperController.speedlimit(100)\n",
    "    ur.start()\n",
    "    ur.gripper = gripperController\n",
    "    time.sleep(sleepRate)\n",
    "\n",
    "    homePose = ur.get_tcp_pose()\n",
    "    dX,dY,dZ = gt.get_world_frame(grasp_pose, ur)\n",
    "    '''\n",
    "    stopping point 2/15:\n",
    "    this works so far\n",
    "    take home pos\n",
    "    add translation on the gripper frame to the goal x, y\n",
    "    apply tmat to the goal\n",
    "    move to goal (translates on x, y and orients at the same time)\n",
    "    ## does this address the fact that orientation is not achievable in standstill?\n",
    "\n",
    "    then: take orig Z (from original gripper frame): [0, 0, dZ]\n",
    "    transform by tmat (the current orientation of the gripper)\n",
    "    add transformed dZ to the goal position\n",
    "    move\n",
    "    works!\n",
    "    '''\n",
    "    goal1 = copy.deepcopy(homePose)\n",
    "    goal1 = np.array(goal1)\n",
    "    goal1[:3, 3] += [dX, dY, 0]\n",
    "    goal1 = np.array(goal1) @ tmat\n",
    "    ur.moveL(goal1)\n",
    "    time.sleep(sleepRate)\n",
    "\n",
    "    # todo: take currentPose and validate orientation?\n",
    "    goal2 = goal1\n",
    "    z_off = -0.00\n",
    "    posd = [0, 0, dZ - z_off] @ tmat[:3, :3]\n",
    "    goal2 = np.array(goal2)\n",
    "    goal2[:3, 3] += posd\n",
    "    ur.moveL(goal2)\n",
    "    time.sleep(sleepRate)\n",
    "    '''\n",
    "    end of working section\n",
    "    '''\n",
    "\n",
    "    print(\"Done moving to block\")\n",
    "    # ur.closeGripper(9) \n",
    "    time.sleep(sleepRate)\n",
    "    # gt.moveBackFromObj(homePose, ur)\n",
    "    # gt.grabStrat1(grasp_pose)\n",
    "    ur.moveL(homePose)\n",
    "    time.sleep(sleepRate)\n",
    "    # ur.openGripper()\n",
    "    ur.stop()\n",
    "except Exception as e:\n",
    "    gripperController.openGripper()\n",
    "    gripperController.disconnect()\n",
    "    ur.stop()\n",
    "    raise(e)"
   ]
  },
  {
   "cell_type": "code",
   "execution_count": null,
   "metadata": {},
   "outputs": [],
   "source": []
  }
 ],
 "metadata": {
  "kernelspec": {
   "display_name": "Python 3",
   "language": "python",
   "name": "python3"
  },
  "language_info": {
   "codemirror_mode": {
    "name": "ipython",
    "version": 3
   },
   "file_extension": ".py",
   "mimetype": "text/x-python",
   "name": "python",
   "nbconvert_exporter": "python",
   "pygments_lexer": "ipython3",
   "version": "3.10.12"
  }
 },
 "nbformat": 4,
 "nbformat_minor": 2
}
