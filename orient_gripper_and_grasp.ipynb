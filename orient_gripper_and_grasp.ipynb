{
 "cells": [
  {
   "cell_type": "code",
   "execution_count": 2,
   "metadata": {},
   "outputs": [],
   "source": [
    "from magpie import grasp as gt\n",
    "import rtde_control\n",
    "import rtde_receive\n",
    "from magpie.motor_code import Motors\n",
    "from magpie import ur5 as ur5\n",
    "import time\n",
    "import numpy as np\n",
    "import copy\n",
    "import magpie\n",
    "from magpie.gripper import Gripper"
   ]
  },
  {
   "cell_type": "code",
   "execution_count": 2,
   "metadata": {},
   "outputs": [
    {
     "data": {
      "text/plain": [
       "<module 'magpie.gripper' from '/home/will/MAGPIE/magpie/gripper.py'>"
      ]
     },
     "execution_count": 2,
     "metadata": {},
     "output_type": "execute_result"
    }
   ],
   "source": [
    "import importlib\n",
    "importlib.reload(gt)\n",
    "importlib.reload(ur5)\n",
    "importlib.reload(magpie.gripper)"
   ]
  },
  {
   "cell_type": "code",
   "execution_count": 15,
   "metadata": {},
   "outputs": [
    {
     "data": {
      "text/plain": [
       "0.125"
      ]
     },
     "execution_count": 15,
     "metadata": {},
     "output_type": "execute_result"
    }
   ],
   "source": [
    "# tmat = np.array([[ 0.91574736, -0.35602909,  0.18614527, -0.02848649],\n",
    "#        [-0.40073104, -0.77640133,  0.48643151,  0.14332736],\n",
    "#        [ 0.02866033,  0.52004256,  0.85365937,  0.33750796],\n",
    "#        [ 0.        ,  0.        ,  0.        ,  1.        ]])\n",
    "\n",
    "tmat = np.array([[-0.95229089,  0.08163851,  0.29407007, -0.0540869 ],\n",
    "       [-0.17853089, -0.93050792, -0.31981514, -0.06974001],\n",
    "       [ 0.2475253 , -0.35705764,  0.90068922,  0.38554392],\n",
    "       [ 0.        ,  0.        ,  0.        ,  1.        ]])\n",
    "\n",
    "aperture = 37\n",
    "# z_offset = G.aperture_to_z(aperture)/1000.0\n",
    "\n",
    "mmc = copy.deepcopy(tmat[:3, 3])\n",
    "# grasp_pose = [mmc[1], -mmc[0], mmc[2]]\n",
    "grasp_pose = mmc\n",
    "tmat[:3, 3] = [0, 0, 0]\n",
    "homePose = None\n",
    "z_offset = 105/1000.0\n",
    "z_offset -= -0.02\n",
    "z_offset"
   ]
  },
  {
   "cell_type": "code",
   "execution_count": 18,
   "metadata": {},
   "outputs": [
    {
     "name": "stdout",
     "output_type": "stream",
     "text": [
      "Succeeded to open the port\n",
      "Succeeded to change the baudrate\n",
      "Moving speed of dxl ID: 1 set to 100 \n",
      "Moving speed of dxl ID: 2 set to 100 \n",
      "Desired Pose:  [[-0.267  0.915 -0.304 -0.27 ]\n",
      " [-0.955 -0.292 -0.041 -0.082]\n",
      " [ 0.127 -0.279 -0.952  0.233]\n",
      " [ 0.     0.     0.     1.   ]]\n",
      "[[ 0.081 -0.935 -0.346 -0.27 ]\n",
      " [-0.997 -0.072 -0.039 -0.082]\n",
      " [ 0.011  0.348 -0.937  0.233]\n",
      " [ 0.     0.     0.     1.   ]]\n",
      "P_goal:\n",
      "[-0.058  0.071 -0.268]\n",
      "Done moving to block\n"
     ]
    }
   ],
   "source": [
    "# orient gripper in place OR move gripper to cartesian pos\n",
    "sleepRate = 1.5\n",
    "ur = ur5.UR5_Interface()\n",
    "try:\n",
    "    ur.start()\n",
    "    # homePose = ur.get_tcp_pose()\n",
    "    homePose = ur.getPose()\n",
    "    currentPose = ur.getPose()\n",
    "    desiredPose = np.matmul(np.array(currentPose), tmat)\n",
    "    print(\"Desired Pose: \", desiredPose)\n",
    "    # in-place (or best attempt) re-orientation\n",
    "    # ur.moveL(desiredPose)\n",
    "    ## move to cartesian pos\n",
    "    gt.move_to(grasp_pose, ur, z_offset=z_offset)    \n",
    "    print(\"Done moving to block\")\n",
    "    time.sleep(sleepRate)\n",
    "    time.sleep(sleepRate)\n",
    "    ur.stop()\n",
    "except Exception as e:\n",
    "    ur.stop()\n",
    "    raise(e)"
   ]
  },
  {
   "cell_type": "code",
   "execution_count": 19,
   "metadata": {},
   "outputs": [
    {
     "name": "stdout",
     "output_type": "stream",
     "text": [
      "Succeeded to open the port\n",
      "Succeeded to change the baudrate\n",
      "Moving speed of dxl ID: 1 set to 100 \n",
      "Moving speed of dxl ID: 2 set to 100 \n",
      "[TxRxResult] There is no status packet!\n",
      "[TxRxResult] There is no status packet!\n"
     ]
    }
   ],
   "source": [
    "# move home\n",
    "ur = ur5.UR5_Interface()\n",
    "try:\n",
    "    ur.start()\n",
    "    # time.sleep(sleepRate)\n",
    "    ur.moveL(homePose)\n",
    "    time.sleep(sleepRate * 3)\n",
    "    ur.stop()\n",
    "except Exception as e:\n",
    "    ur.stop()"
   ]
  },
  {
   "cell_type": "code",
   "execution_count": 409,
   "metadata": {},
   "outputs": [
    {
     "name": "stdout",
     "output_type": "stream",
     "text": [
      "Succeeded to open the port\n",
      "Succeeded to change the baudrate\n",
      "Moving speed of dxl ID: 1 set to 100 \n",
      "Moving speed of dxl ID: 2 set to 100 \n",
      "[[ 0.957 -0.222 -0.186 -0.056]\n",
      " [-0.274 -0.903 -0.332 -0.496]\n",
      " [-0.094  0.368 -0.925  0.181]\n",
      " [ 0.     0.     0.     1.   ]]\n",
      "P_goal:\n",
      "[-0.061 -0.04  -0.246]\n"
     ]
    },
    {
     "name": "stderr",
     "output_type": "stream",
     "text": [
      "RTDEControlInterface: RTDE control script is not running!\n",
      "RTDEControlInterface: RTDE control script is not running!\n"
     ]
    }
   ],
   "source": [
    "# orient and move gripper to cartesian pos\n",
    "sleepRate = 1.5\n",
    "ur = ur5.UR5_Interface()\n",
    "try:\n",
    "    servoPort = \"/dev/ttyACM0\"\n",
    "    ur.start()\n",
    "    time.sleep(sleepRate)\n",
    "    homePose = ur.get_tcp_pose()    \n",
    "    '''\n",
    "    stopping point 2/15:\n",
    "    this works so far\n",
    "    take home pos\n",
    "    add translation on the gripper frame to the goal x, y\n",
    "    apply tmat to the goal\n",
    "    move to goal (translates on x, y and orients at the same time)\n",
    "    ## does this address the fact that orientation is not achievable in standstill?\n",
    "\n",
    "    then: take orig Z (from original gripper frame): [0, 0, dZ]\n",
    "    transform by tmat (the current orientation of the gripper)\n",
    "    add transformed dZ to the goal position\n",
    "    move\n",
    "    works!\n",
    "    '''\n",
    "    dX,dY,dZ = gt.get_world_frame(grasp_pose, ur, z_offset=z_offset)\n",
    "\n",
    "    goal1 = copy.deepcopy(homePose)\n",
    "    goal1 = np.array(goal1)\n",
    "    # goal1[:3, 3] += [dX, dY, 0]\n",
    "    goal1[:3, 3] += [dX, dY, dZ]\n",
    "    goal1 = np.array(goal1) @ tmat\n",
    "    ur.moveL(goal1)\n",
    "    time.sleep(sleepRate)\n",
    "\n",
    "    # todo: take currentPose and validate orientation?\n",
    "    goal2 = goal1\n",
    "    posd = [0, 0, dZ] @ tmat[:3, :3]\n",
    "    goal2 = np.array(goal2)\n",
    "    goal2[:3, 3] += posd\n",
    "    # ur.moveL(goal2)\n",
    "    time.sleep(sleepRate)\n",
    "    '''\n",
    "    end of working section\n",
    "    '''\n",
    "    ur.stop()\n",
    "except Exception as e:\n",
    "    ur.stop()\n",
    "    raise(e)"
   ]
  }
 ],
 "metadata": {
  "kernelspec": {
   "display_name": "Python 3",
   "language": "python",
   "name": "python3"
  },
  "language_info": {
   "codemirror_mode": {
    "name": "ipython",
    "version": 3
   },
   "file_extension": ".py",
   "mimetype": "text/x-python",
   "name": "python",
   "nbconvert_exporter": "python",
   "pygments_lexer": "ipython3",
   "version": "3.10.12"
  }
 },
 "nbformat": 4,
 "nbformat_minor": 2
}
