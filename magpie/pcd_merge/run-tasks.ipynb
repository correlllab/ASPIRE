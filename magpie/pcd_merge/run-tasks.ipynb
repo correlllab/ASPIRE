{
 "cells": [
  {
   "cell_type": "code",
   "execution_count": 4,
   "id": "1d530153-9742-47ae-83d4-3230ac03d6af",
   "metadata": {},
   "outputs": [
    {
     "name": "stdout",
     "output_type": "stream",
     "text": [
      "Succeeded to open the port\n",
      "Succeeded to change the baudrate\n",
      "Moving speed of dxl ID: 1 set to 100 \n",
      "Moving speed of dxl ID: 2 set to 100 \n",
      "Moving speed of dxl ID: 1 set to 100 \n",
      "Moving speed of dxl ID: 2 set to 100 \n",
      "Succeeded to open the port\n",
      "Succeeded to change the baudrate\n",
      "Moving speed of dxl ID: 1 set to 100 \n",
      "Moving speed of dxl ID: 2 set to 100 \n",
      "UR5 + Gripper Interface Established\n",
      "Detector established\n",
      "Joint Angles:  [    -26.025     -6.3998      117.65      -174.8     -8.1246      179.06]\n",
      "pos:  [   -0.52699     -0.3469    -0.42664      1.0785     -1.2312     0.91362]\n",
      "Successfully closed port\n"
     ]
    },
    {
     "ename": "IndexError",
     "evalue": "too many indices for array: array is 1-dimensional, but 2 were indexed",
     "output_type": "error",
     "traceback": [
      "\u001b[0;31m---------------------------------------------------------------------------\u001b[0m",
      "\u001b[0;31mIndexError\u001b[0m                                Traceback (most recent call last)",
      "File \u001b[0;32m~/MAGPIE/magpie/pcd_merge/DisplayPCD.py:106\u001b[0m\n\u001b[1;32m    104\u001b[0m ur\u001b[38;5;241m.\u001b[39mstop()\n\u001b[1;32m    105\u001b[0m real\u001b[38;5;241m.\u001b[39mdisconnect()\n\u001b[0;32m--> 106\u001b[0m \u001b[38;5;28;01mraise\u001b[39;00m (e)\n",
      "File \u001b[0;32m~/MAGPIE/magpie/pcd_merge/DisplayPCD.py:85\u001b[0m\n\u001b[1;32m     83\u001b[0m \u001b[38;5;28mprint\u001b[39m(\u001b[38;5;124m\"\u001b[39m\u001b[38;5;124mJoint Angles: \u001b[39m\u001b[38;5;124m\"\u001b[39m, jointAngles \u001b[38;5;241m*\u001b[39m \u001b[38;5;241m180\u001b[39m \u001b[38;5;241m/\u001b[39m np\u001b[38;5;241m.\u001b[39mpi)\n\u001b[1;32m     84\u001b[0m \u001b[38;5;66;03m# pcd, rgbdImage = detector.real.getPCD()  # HERE\u001b[39;00m\n\u001b[0;32m---> 85\u001b[0m pcd, rgbds \u001b[38;5;241m=\u001b[39m \u001b[43mget_pcd_at_multiple_positions\u001b[49m\u001b[43m(\u001b[49m\u001b[43mur\u001b[49m\u001b[43m,\u001b[49m\u001b[43m \u001b[49m\u001b[43mreal\u001b[49m\u001b[43m)\u001b[49m\n\u001b[1;32m     87\u001b[0m \u001b[38;5;66;03m# switch get_pcd_at_multiple_positions method to return list of pcds\u001b[39;00m\n\u001b[1;32m     88\u001b[0m \u001b[38;5;66;03m# use displayPCD from RealSense class\u001b[39;00m\n\u001b[1;32m     90\u001b[0m blocks \u001b[38;5;241m=\u001b[39m detector\u001b[38;5;241m.\u001b[39mgetBlocksFromImages(rgbds)\n",
      "File \u001b[0;32m~/MAGPIE/magpie/pcd_merge/DisplayPCD.py:42\u001b[0m, in \u001b[0;36mget_pcd_at_multiple_positions\u001b[0;34m(robot, camera)\u001b[0m\n\u001b[1;32m     40\u001b[0m \u001b[38;5;28;01mfor\u001b[39;00m pos \u001b[38;5;129;01min\u001b[39;00m positions_array:\n\u001b[1;32m     41\u001b[0m     \u001b[38;5;28mprint\u001b[39m(\u001b[38;5;124m\"\u001b[39m\u001b[38;5;124mpos: \u001b[39m\u001b[38;5;124m\"\u001b[39m, pos)\n\u001b[0;32m---> 42\u001b[0m     \u001b[43mrobot\u001b[49m\u001b[38;5;241;43m.\u001b[39;49m\u001b[43mmoveL\u001b[49m\u001b[43m(\u001b[49m\u001b[43mpos\u001b[49m\u001b[43m)\u001b[49m\n\u001b[1;32m     43\u001b[0m     pcd, rgbd \u001b[38;5;241m=\u001b[39m camera\u001b[38;5;241m.\u001b[39mgetPCD()\n\u001b[1;32m     44\u001b[0m     pcds\u001b[38;5;241m.\u001b[39mappend(pcd)\n",
      "File \u001b[0;32m~/MAGPIE/magpie/pcd_merge/../../magpie/ur5.py:165\u001b[0m, in \u001b[0;36mUR5_Interface.moveL\u001b[0;34m(self, poseMatrix, linSpeed, linAccel, asynch)\u001b[0m\n\u001b[1;32m    162\u001b[0m \u001b[38;5;250m\u001b[39m\u001b[38;5;124;03m\"\"\" Moves tool tip pose linearly in cartesian space to goal pose (requires tool pose to be configured) \"\"\"\u001b[39;00m\n\u001b[1;32m    163\u001b[0m \u001b[38;5;66;03m# poseMatrix is a SE3 Object (4 x 4 Homegenous Transform) or numpy array\u001b[39;00m\n\u001b[1;32m    164\u001b[0m \u001b[38;5;66;03m# tool pose defined relative to the end of the gripper when closed\u001b[39;00m\n\u001b[0;32m--> 165\u001b[0m \u001b[38;5;28mself\u001b[39m\u001b[38;5;241m.\u001b[39mctrl\u001b[38;5;241m.\u001b[39mmoveL( \u001b[43mhomog_coord_to_pose_vector\u001b[49m\u001b[43m(\u001b[49m\u001b[43m \u001b[49m\u001b[43mposeMatrix\u001b[49m\u001b[43m \u001b[49m\u001b[43m)\u001b[49m, linSpeed, linAccel, asynch )\n",
      "File \u001b[0;32m~/MAGPIE/magpie/pcd_merge/../../magpie/ur5.py:43\u001b[0m, in \u001b[0;36mhomog_coord_to_pose_vector\u001b[0;34m(poseMatrix)\u001b[0m\n\u001b[1;32m     41\u001b[0m \u001b[38;5;250m\u001b[39m\u001b[38;5;124;03m\"\"\" Converts poseMatrix into a 6 element list of [x, y, z, rX, rY, rZ] \"\"\"\u001b[39;00m\n\u001b[1;32m     42\u001b[0m \u001b[38;5;66;03m# poseMatrix is a SE3 Object (4 x 4 Homegenous Transform) or numpy array\u001b[39;00m\n\u001b[0;32m---> 43\u001b[0m \u001b[38;5;28;01mreturn\u001b[39;00m \u001b[43mposes\u001b[49m\u001b[38;5;241;43m.\u001b[39;49m\u001b[43mpose_mtrx_to_vec\u001b[49m\u001b[43m(\u001b[49m\u001b[43m \u001b[49m\u001b[43mnp\u001b[49m\u001b[38;5;241;43m.\u001b[39;49m\u001b[43marray\u001b[49m\u001b[43m(\u001b[49m\u001b[43m \u001b[49m\u001b[43mposeMatrix\u001b[49m\u001b[43m \u001b[49m\u001b[43m)\u001b[49m\u001b[43m \u001b[49m\u001b[43m)\u001b[49m\n",
      "File \u001b[0;32m~/MAGPIE/magpie/pcd_merge/../../magpie/poses.py:80\u001b[0m, in \u001b[0;36mpose_mtrx_to_vec\u001b[0;34m(matrix)\u001b[0m\n\u001b[1;32m     60\u001b[0m \u001b[38;5;28;01mdef\u001b[39;00m \u001b[38;5;21mpose_mtrx_to_vec\u001b[39m(matrix):\n\u001b[1;32m     61\u001b[0m \u001b[38;5;250m    \u001b[39m\u001b[38;5;124;03m\"\"\"\u001b[39;00m\n\u001b[1;32m     62\u001b[0m \u001b[38;5;124;03m    Converts homogeneous transformation matrix to a [translation + rotation] vector.\u001b[39;00m\n\u001b[1;32m     63\u001b[0m \n\u001b[0;32m   (...)\u001b[0m\n\u001b[1;32m     77\u001b[0m \u001b[38;5;124;03m        [x, y, z, rX, rY, rZ]\u001b[39;00m\n\u001b[1;32m     78\u001b[0m \u001b[38;5;124;03m    \"\"\"\u001b[39;00m\n\u001b[0;32m---> 80\u001b[0m     \u001b[38;5;28;01mif\u001b[39;00m \u001b[38;5;129;01mnot\u001b[39;00m is_rotation_mtrx(\u001b[43mmatrix\u001b[49m\u001b[43m[\u001b[49m\u001b[38;5;241;43m0\u001b[39;49m\u001b[43m:\u001b[49m\u001b[38;5;241;43m3\u001b[39;49m\u001b[43m,\u001b[49m\u001b[43m \u001b[49m\u001b[38;5;241;43m0\u001b[39;49m\u001b[43m:\u001b[49m\u001b[38;5;241;43m3\u001b[39;49m\u001b[43m]\u001b[49m):\n\u001b[1;32m     81\u001b[0m         \u001b[38;5;28;01mraise\u001b[39;00m \u001b[38;5;167;01mValueError\u001b[39;00m(\n\u001b[1;32m     82\u001b[0m             \u001b[38;5;124m\"\u001b[39m\u001b[38;5;124mpose_mtrx_to_vec: Homogeneous matrix contained invalid rotation!\u001b[39m\u001b[38;5;124m\"\u001b[39m\n\u001b[1;32m     83\u001b[0m         )\n\u001b[1;32m     85\u001b[0m     r11 \u001b[38;5;241m=\u001b[39m matrix[\u001b[38;5;241m0\u001b[39m, \u001b[38;5;241m0\u001b[39m]\n",
      "\u001b[0;31mIndexError\u001b[0m: too many indices for array: array is 1-dimensional, but 2 were indexed"
     ]
    }
   ],
   "source": [
    "%run DisplayPCD.py"
   ]
  },
  {
   "cell_type": "code",
   "execution_count": null,
   "id": "0184e4e3-7606-4db1-b6dd-308ae51c8996",
   "metadata": {},
   "outputs": [],
   "source": []
  }
 ],
 "metadata": {
  "kernelspec": {
   "display_name": "Python 3 (ipykernel)",
   "language": "python",
   "name": "python3"
  },
  "language_info": {
   "codemirror_mode": {
    "name": "ipython",
    "version": 3
   },
   "file_extension": ".py",
   "mimetype": "text/x-python",
   "name": "python",
   "nbconvert_exporter": "python",
   "pygments_lexer": "ipython3",
   "version": "3.10.12"
  }
 },
 "nbformat": 4,
 "nbformat_minor": 5
}
