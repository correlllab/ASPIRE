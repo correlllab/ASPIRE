{
 "cells": [
  {
   "cell_type": "code",
   "execution_count": 1,
   "id": "1d530153-9742-47ae-83d4-3230ac03d6af",
   "metadata": {},
   "outputs": [
    {
     "name": "stdout",
     "output_type": "stream",
     "text": [
      "Jupyter environment detected. Enabling Open3D WebVisualizer.\n",
      "[Open3D INFO] WebRTC GUI backend enabled.\n",
      "[Open3D INFO] WebRTCWindowSystem: HTTP handshake server disabled.\n",
      "Succeeded to open the port\n",
      "Succeeded to change the baudrate\n",
      "Moving speed of dxl ID: 1 set to 100 \n",
      "Moving speed of dxl ID: 2 set to 100 \n",
      "Moving speed of dxl ID: 1 set to 100 \n",
      "Moving speed of dxl ID: 2 set to 100 \n",
      "UR5 + Gripper Interface Established\n",
      "Detector established\n",
      "Successfully closed port\n"
     ]
    },
    {
     "ename": "AttributeError",
     "evalue": "'NoneType' object has no attribute 'getActualTCPPose'",
     "output_type": "error",
     "traceback": [
      "\u001b[0;31m---------------------------------------------------------------------------\u001b[0m",
      "\u001b[0;31mAttributeError\u001b[0m                            Traceback (most recent call last)",
      "File \u001b[0;32m~/MAGPIE/magpie/pcd_merge/DisplayPCD.py:121\u001b[0m\n\u001b[1;32m    119\u001b[0m ur\u001b[38;5;241m.\u001b[39mr\u001b[38;5;241m.\u001b[39mdisconnect()\n\u001b[1;32m    120\u001b[0m real\u001b[38;5;241m.\u001b[39mdisconnect()\n\u001b[0;32m--> 121\u001b[0m \u001b[38;5;28;01mraise\u001b[39;00m (e)\n",
      "File \u001b[0;32m~/MAGPIE/magpie/pcd_merge/DisplayPCD.py:91\u001b[0m\n\u001b[1;32m     89\u001b[0m     detector\u001b[38;5;241m.\u001b[39mreal\u001b[38;5;241m.\u001b[39mpipe\u001b[38;5;241m.\u001b[39mstop()\n\u001b[1;32m     90\u001b[0m     \u001b[38;5;28;01mraise\u001b[39;00m (e)\n\u001b[0;32m---> 91\u001b[0m urPose \u001b[38;5;241m=\u001b[39m \u001b[43mur\u001b[49m\u001b[38;5;241;43m.\u001b[39;49m\u001b[43mgetPose\u001b[49m\u001b[43m(\u001b[49m\u001b[43m)\u001b[49m\n\u001b[1;32m     92\u001b[0m jointAngles \u001b[38;5;241m=\u001b[39m ur\u001b[38;5;241m.\u001b[39mgetJointAngles()\n\u001b[1;32m     93\u001b[0m \u001b[38;5;28mprint\u001b[39m(\u001b[38;5;124m\"\u001b[39m\u001b[38;5;124mJoint Angles: \u001b[39m\u001b[38;5;124m\"\u001b[39m, jointAngles \u001b[38;5;241m*\u001b[39m \u001b[38;5;241m180\u001b[39m \u001b[38;5;241m/\u001b[39m np\u001b[38;5;241m.\u001b[39mpi)\n",
      "File \u001b[0;32m~/MAGPIE/magpie/pcd_merge/../../magpie/ur5.py:121\u001b[0m, in \u001b[0;36mUR5_Interface.getPose\u001b[0;34m(self)\u001b[0m\n\u001b[1;32m    119\u001b[0m \u001b[38;5;28;01mdef\u001b[39;00m \u001b[38;5;21mgetPose\u001b[39m(\u001b[38;5;28mself\u001b[39m):\n\u001b[1;32m    120\u001b[0m     \u001b[38;5;66;03m# Returns the current pose of the last frame as a SE3 Object (4 x 4 Homegenous Transform)\u001b[39;00m\n\u001b[0;32m--> 121\u001b[0m     p \u001b[38;5;241m=\u001b[39m \u001b[38;5;28;43mself\u001b[39;49m\u001b[38;5;241;43m.\u001b[39;49m\u001b[43mrecv\u001b[49m\u001b[38;5;241;43m.\u001b[39;49m\u001b[43mgetActualTCPPose\u001b[49m()\n\u001b[1;32m    122\u001b[0m     poseMatrix \u001b[38;5;241m=\u001b[39m \u001b[38;5;28mself\u001b[39m\u001b[38;5;241m.\u001b[39mposeVectorToMatrix(p)\n\u001b[1;32m    123\u001b[0m     T_N \u001b[38;5;241m=\u001b[39m sm\u001b[38;5;241m.\u001b[39mSE3(poseMatrix)   \u001b[38;5;66;03m# convert a pose vector to a matrix SE3 object, SE3 --> special euclidean in 3-dimensional space\u001b[39;00m\n",
      "\u001b[0;31mAttributeError\u001b[0m: 'NoneType' object has no attribute 'getActualTCPPose'"
     ]
    }
   ],
   "source": [
    "%run DisplayPCD.py"
   ]
  },
  {
   "cell_type": "code",
   "execution_count": null,
   "id": "0184e4e3-7606-4db1-b6dd-308ae51c8996",
   "metadata": {},
   "outputs": [],
   "source": []
  }
 ],
 "metadata": {
  "kernelspec": {
   "display_name": "Python 3 (ipykernel)",
   "language": "python",
   "name": "python3"
  },
  "language_info": {
   "codemirror_mode": {
    "name": "ipython",
    "version": 3
   },
   "file_extension": ".py",
   "mimetype": "text/x-python",
   "name": "python",
   "nbconvert_exporter": "python",
   "pygments_lexer": "ipython3",
   "version": "3.10.12"
  }
 },
 "nbformat": 4,
 "nbformat_minor": 5
}
