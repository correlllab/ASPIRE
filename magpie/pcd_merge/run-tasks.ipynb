{
 "cells": [
  {
   "cell_type": "code",
   "execution_count": 1,
   "id": "1d530153-9742-47ae-83d4-3230ac03d6af",
   "metadata": {},
   "outputs": [
    {
     "name": "stdout",
     "output_type": "stream",
     "text": [
      "Jupyter environment detected. Enabling Open3D WebVisualizer.\n",
      "[Open3D INFO] WebRTC GUI backend enabled.\n",
      "[Open3D INFO] WebRTCWindowSystem: HTTP handshake server disabled.\n",
      "Succeeded to open the port\n",
      "Succeeded to change the baudrate\n",
      "Moving speed of dxl ID: 1 set to 100 \n",
      "Moving speed of dxl ID: 2 set to 100 \n",
      "Moving speed of dxl ID: 1 set to 100 \n",
      "Moving speed of dxl ID: 2 set to 100 \n",
      "Succeeded to open the port\n",
      "Succeeded to change the baudrate\n",
      "Moving speed of dxl ID: 1 set to 100 \n",
      "Moving speed of dxl ID: 2 set to 100 \n",
      "UR5 + Gripper Interface Established\n",
      "Position of dxl ID: 1 set to 303 \n",
      "Position of dxl ID: 2 set to 729 \n",
      "gripper open\n",
      "Detector established\n",
      "Joint Angles:  [    -20.531       26.48      55.145     -322.57      1.5112      85.857]\n",
      "position coords:  [-0.49098216448827336, -0.3229760190243834, -0.4496019024864447, 0.8283712219662485, 2.034851669669333, -2.1498169819251514]\n",
      "pos:  [   -0.57285    -0.26653    -0.29322   -0.009479     -2.6199      1.0365]\n",
      "pos:  [   -0.49098    -0.32298    -0.44961     0.82836      2.0349     -2.1498]\n",
      "Successfully closed port\n"
     ]
    },
    {
     "ename": "NameError",
     "evalue": "name 's' is not defined",
     "output_type": "error",
     "traceback": [
      "\u001b[0;31m---------------------------------------------------------------------------\u001b[0m",
      "\u001b[0;31mNameError\u001b[0m                                 Traceback (most recent call last)",
      "File \u001b[0;32m~/MAGPIE/magpie/pcd_merge/DisplayPCD.py:110\u001b[0m\n\u001b[1;32m    108\u001b[0m ur\u001b[38;5;241m.\u001b[39mstop()\n\u001b[1;32m    109\u001b[0m real\u001b[38;5;241m.\u001b[39mdisconnect()\n\u001b[0;32m--> 110\u001b[0m \u001b[38;5;28;01mraise\u001b[39;00m (e)\n",
      "File \u001b[0;32m~/MAGPIE/magpie/pcd_merge/DisplayPCD.py:90\u001b[0m\n\u001b[1;32m     88\u001b[0m \u001b[38;5;66;03m# pcd, rgbdImage = detector.real.getPCD()  # HERE\u001b[39;00m\n\u001b[1;32m     89\u001b[0m pcd, rgbds \u001b[38;5;241m=\u001b[39m get_pcd_at_multiple_positions(ur, real)\n\u001b[0;32m---> 90\u001b[0m \u001b[43ms\u001b[49m\n\u001b[1;32m     91\u001b[0m \u001b[38;5;66;03m# switch get_pcd_at_multiple_positions method to return list of pcds\u001b[39;00m\n\u001b[1;32m     92\u001b[0m \u001b[38;5;66;03m# use displayPCD from RealSense class\u001b[39;00m\n\u001b[1;32m     94\u001b[0m blocks \u001b[38;5;241m=\u001b[39m detector\u001b[38;5;241m.\u001b[39mgetBlocksFromImages(rgbds)\n",
      "\u001b[0;31mNameError\u001b[0m: name 's' is not defined"
     ]
    }
   ],
   "source": [
    "%run DisplayPCD.py"
   ]
  },
  {
   "cell_type": "code",
   "execution_count": null,
   "id": "0184e4e3-7606-4db1-b6dd-308ae51c8996",
   "metadata": {},
   "outputs": [],
   "source": []
  }
 ],
 "metadata": {
  "kernelspec": {
   "display_name": "Python 3 (ipykernel)",
   "language": "python",
   "name": "python3"
  },
  "language_info": {
   "codemirror_mode": {
    "name": "ipython",
    "version": 3
   },
   "file_extension": ".py",
   "mimetype": "text/x-python",
   "name": "python",
   "nbconvert_exporter": "python",
   "pygments_lexer": "ipython3",
   "version": "3.10.12"
  }
 },
 "nbformat": 4,
 "nbformat_minor": 5
}
