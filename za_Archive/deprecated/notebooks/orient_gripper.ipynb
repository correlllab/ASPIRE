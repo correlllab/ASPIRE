{
 "cells": [
  {
   "cell_type": "code",
   "execution_count": 1,
   "metadata": {},
   "outputs": [
    {
     "name": "stdout",
     "output_type": "stream",
     "text": [
      "Jupyter environment detected. Enabling Open3D WebVisualizer.\n",
      "[Open3D INFO] WebRTC GUI backend enabled.\n",
      "[Open3D INFO] WebRTCWindowSystem: HTTP handshake server disabled.\n"
     ]
    }
   ],
   "source": [
    "import grab_test as gt\n",
    "import rtde_control\n",
    "import rtde_receive\n",
    "from Motor_code import Motors\n",
    "import UR5_Interface as ur5\n",
    "import time\n",
    "import numpy as np"
   ]
  },
  {
   "cell_type": "code",
   "execution_count": 16,
   "metadata": {},
   "outputs": [],
   "source": [
    "# tmat = np.array([[ 0.91574736, -0.35602909,  0.18614527, -0.02848649],\n",
    "#        [-0.40073104, -0.77640133,  0.48643151,  0.14332736],\n",
    "#        [ 0.02866033,  0.52004256,  0.85365937,  0.33750796],\n",
    "#        [ 0.        ,  0.        ,  0.        ,  1.        ]])\n",
    "\n",
    "tmat = np.array([[ 0.42926021, -0.857249  , -0.2843586 ,  0.        ],\n",
    "       [ 0.84954073,  0.49011792, -0.19510245,  0.        ],\n",
    "       [ 0.30662063, -0.15782449,  0.93865607,  0.        ],\n",
    "       [ 0.        ,  0.        ,  0.        ,  1.        ]])"
   ]
  },
  {
   "cell_type": "code",
   "execution_count": 13,
   "metadata": {},
   "outputs": [],
   "source": [
    "homePose = []"
   ]
  },
  {
   "cell_type": "code",
   "execution_count": 23,
   "metadata": {},
   "outputs": [
    {
     "name": "stdout",
     "output_type": "stream",
     "text": [
      "UR5 Interface Established\n",
      "currentPose:   \u001b[38;5;1m-0.9967  \u001b[0m \u001b[38;5;1m 0.07632 \u001b[0m \u001b[38;5;1m 0.02746 \u001b[0m \u001b[38;5;4m-0.02796 \u001b[0m  \u001b[0m\n",
      "  \u001b[38;5;1m 0.0625  \u001b[0m \u001b[38;5;1m 0.9385  \u001b[0m \u001b[38;5;1m-0.3396  \u001b[0m \u001b[38;5;4m-0.5     \u001b[0m  \u001b[0m\n",
      "  \u001b[38;5;1m-0.05169 \u001b[0m \u001b[38;5;1m-0.3368  \u001b[0m \u001b[38;5;1m-0.9402  \u001b[0m \u001b[38;5;4m 0.2834  \u001b[0m  \u001b[0m\n",
      "  \u001b[38;5;244m 0       \u001b[0m \u001b[38;5;244m 0       \u001b[0m \u001b[38;5;244m 0       \u001b[0m \u001b[38;5;244m 1       \u001b[0m  \u001b[0m\n",
      "\n",
      "Desired Pose:  [[-0.35459153  0.8874948   0.29430906 -0.02795873]\n",
      " [ 0.7199665   0.45998915 -0.51967125 -0.5000158 ]\n",
      " [-0.59658451  0.02762163 -0.80207479  0.28341598]\n",
      " [ 0.          0.          0.          1.        ]]\n"
     ]
    }
   ],
   "source": [
    "# Full test\n",
    "sleepRate = 1.5\n",
    "\n",
    "mc = [0.14332736283341588, 0.028486494846641716, 0.3375079606255832]\n",
    "grasp_pose = mc\n",
    "# grasp_pose = [mc[1], -mc[0], mc[2]]\n",
    "\n",
    "try:\n",
    "    robotIP = \"192.168.0.6\"\n",
    "    con = rtde_control.RTDEControlInterface(robotIP)\n",
    "    rec = rtde_receive.RTDEReceiveInterface(robotIP)\n",
    "    ur = ur5.UR5_Interface()\n",
    "    try:\n",
    "        ur.c = con\n",
    "        ur.r = rec\n",
    "    except Exception as e:\n",
    "        raise(e)\n",
    "    else:\n",
    "        print(\"UR5 Interface Established\")\n",
    "            \n",
    "    homePose = ur.getPose()\n",
    "    # gt.moveToObj(grasp_pose, ur) \n",
    "    # print(\"Done moving to block\")\n",
    "    # ur.closeGripper(9) \n",
    "    # time.sleep(sleepRate)\n",
    "    # gt.moveBackFromObj(homePose, ur)\n",
    "    # ur.openGripper()\n",
    "    currentPose = ur.getPose()\n",
    "    desiredPose = np.matmul(np.array(currentPose), tmat)\n",
    "    print(f\"currentPose: {currentPose}\")\n",
    "    print(\"Desired Pose: \", desiredPose)\n",
    "    ur.moveL(desiredPose)\n",
    "\n",
    "    ur.c.disconnect()\n",
    "    ur.r.disconnect()\n",
    "except Exception as e:\n",
    "    ur.c.disconnect()\n",
    "    ur.r.disconnect()\n",
    "    raise(e)"
   ]
  },
  {
   "cell_type": "code",
   "execution_count": 10,
   "metadata": {},
   "outputs": [
    {
     "data": {
      "text/plain": [
       "  \u001b[38;5;1m-0.9943  \u001b[0m \u001b[38;5;1m 0.006685\u001b[0m \u001b[38;5;1m 0.1068  \u001b[0m \u001b[38;5;4m-0.002399\u001b[0m  \u001b[0m\n",
       "  \u001b[38;5;1m-0.02667 \u001b[0m \u001b[38;5;1m 0.9511  \u001b[0m \u001b[38;5;1m-0.3079  \u001b[0m \u001b[38;5;4m-0.5034  \u001b[0m  \u001b[0m\n",
       "  \u001b[38;5;1m-0.1036  \u001b[0m \u001b[38;5;1m-0.3089  \u001b[0m \u001b[38;5;1m-0.9454  \u001b[0m \u001b[38;5;4m 0.2468  \u001b[0m  \u001b[0m\n",
       "  \u001b[38;5;244m 0       \u001b[0m \u001b[38;5;244m 0       \u001b[0m \u001b[38;5;244m 0       \u001b[0m \u001b[38;5;244m 1       \u001b[0m  \u001b[0m\n"
      ]
     },
     "execution_count": 10,
     "metadata": {},
     "output_type": "execute_result"
    }
   ],
   "source": [
    "homePose"
   ]
  },
  {
   "cell_type": "code",
   "execution_count": 24,
   "metadata": {},
   "outputs": [
    {
     "name": "stdout",
     "output_type": "stream",
     "text": [
      "UR5 Interface Established\n"
     ]
    }
   ],
   "source": [
    "# Full test\n",
    "sleepRate = 1.5\n",
    "\n",
    "mc = [0.14332736283341588, 0.028486494846641716, 0.3375079606255832]\n",
    "grasp_pose = mc\n",
    "# grasp_pose = [mc[1], -mc[0], mc[2]]\n",
    "\n",
    "try:\n",
    "    robotIP = \"192.168.0.6\"\n",
    "    con = rtde_control.RTDEControlInterface(robotIP)\n",
    "    rec = rtde_receive.RTDEReceiveInterface(robotIP)\n",
    "    ur = ur5.UR5_Interface()\n",
    "    try:\n",
    "        ur.c = con\n",
    "        ur.r = rec\n",
    "    except Exception as e:\n",
    "        raise(e)\n",
    "    else:\n",
    "        print(\"UR5 Interface Established\")\n",
    "            \n",
    "    # homePose = ur.getPose()\n",
    "    # gt.moveToObj(grasp_pose, ur) \n",
    "    # print(\"Done moving to block\")\n",
    "    # ur.closeGripper(9) \n",
    "    # time.sleep(sleepRate)\n",
    "    # gt.moveBackFromObj(homePose, ur)\n",
    "    # ur.openGripper()\n",
    "    # currentPose = ur.getPose()\n",
    "    # desiredPose = np.matmul(np.array(currentPose), tmat)\n",
    "    # print(f\"currentPose: {currentPose}\")\n",
    "    # print(\"Desired Pose: \", desiredPose)\n",
    "    ur.moveL(homePose)\n",
    "\n",
    "    ur.c.disconnect()\n",
    "    ur.r.disconnect()\n",
    "except Exception as e:\n",
    "    ur.c.disconnect()\n",
    "    ur.r.disconnect()\n",
    "    raise(e)"
   ]
  },
  {
   "cell_type": "code",
   "execution_count": null,
   "metadata": {},
   "outputs": [],
   "source": []
  }
 ],
 "metadata": {
  "kernelspec": {
   "display_name": "Python 3",
   "language": "python",
   "name": "python3"
  },
  "language_info": {
   "codemirror_mode": {
    "name": "ipython",
    "version": 3
   },
   "file_extension": ".py",
   "mimetype": "text/x-python",
   "name": "python",
   "nbconvert_exporter": "python",
   "pygments_lexer": "ipython3",
   "version": "3.10.12"
  }
 },
 "nbformat": 4,
 "nbformat_minor": 2
}
