{
 "cells": [
  {
   "cell_type": "code",
   "execution_count": 1,
   "metadata": {},
   "outputs": [
    {
     "name": "stdout",
     "output_type": "stream",
     "text": [
      "Jupyter environment detected. Enabling Open3D WebVisualizer.\n",
      "[Open3D INFO] WebRTC GUI backend enabled.\n",
      "[Open3D INFO] WebRTCWindowSystem: HTTP handshake server disabled.\n"
     ]
    }
   ],
   "source": [
    "import grab_test as gt\n",
    "import rtde_control\n",
    "import rtde_receive\n",
    "from Motor_code import Motors\n",
    "import UR5_Interface as ur5\n",
    "import time\n",
    "import copy"
   ]
  },
  {
   "cell_type": "code",
   "execution_count": 2,
   "metadata": {},
   "outputs": [
    {
     "name": "stdout",
     "output_type": "stream",
     "text": [
      "UR5 Interface Established\n",
      "P_goal:\n",
      "[-0.01473224 -0.18641809 -0.188141  ]\n",
      "Done moving to block\n"
     ]
    }
   ],
   "source": [
    "# Full test\n",
    "sleepRate = 0.75\n",
    "grasp_pose = [-0.06345468 , -0.17058808,  0.27297406]\n",
    "homePose = []\n",
    "try:\n",
    "    robotIP = \"192.168.0.6\"\n",
    "    con = rtde_control.RTDEControlInterface(robotIP)\n",
    "    rec = rtde_receive.RTDEReceiveInterface(robotIP)\n",
    "    # servoPort = \"/dev/ttyACM0\"\n",
    "    # gripperController = Motors(servoPort)\n",
    "    # gripperController.torquelimit(600) # used to be 600\n",
    "    # gripperController.speedlimit(100)\n",
    "    ur = ur5.UR5_Interface()\n",
    "    # ur.gripperController = gripperController\n",
    "    try:\n",
    "        ur.c = con\n",
    "        ur.r = rec\n",
    "        # ur.gripperController = gripperController\n",
    "    except Exception as e:\n",
    "        raise(e)\n",
    "    else:\n",
    "        print(\"UR5 Interface Established\")\n",
    "            \n",
    "    # print(f\"res: {projectToWorldCoords(res)} \")\n",
    "    # ur.openGripper() # Open gripper\n",
    "    # ur.testRoutine()\n",
    "    homePose = ur.getPose()\n",
    "    gt.moveToObj(grasp_pose, ur)\n",
    "    time.sleep(sleepRate)\n",
    "    print(\"Done moving to block\")\n",
    "    gt.moveBackFromObj(homePose, ur) \n",
    "    time.sleep(sleepRate)\n",
    "    ur.c.disconnect()\n",
    "    ur.r.disconnect()\n",
    "except Exception as e:\n",
    "    # gripperController.openGripper()\n",
    "    # gripperController.disconnect()\n",
    "    ur.c.disconnect()\n",
    "    ur.r.disconnect()\n",
    "    raise(e)"
   ]
  },
  {
   "cell_type": "code",
   "execution_count": null,
   "metadata": {},
   "outputs": [],
   "source": []
  }
 ],
 "metadata": {
  "kernelspec": {
   "display_name": "Python 3",
   "language": "python",
   "name": "python3"
  },
  "language_info": {
   "codemirror_mode": {
    "name": "ipython",
    "version": 3
   },
   "file_extension": ".py",
   "mimetype": "text/x-python",
   "name": "python",
   "nbconvert_exporter": "python",
   "pygments_lexer": "ipython3",
   "version": "3.10.12"
  }
 },
 "nbformat": 4,
 "nbformat_minor": 2
}
