{
 "cells": [
  {
   "cell_type": "code",
   "execution_count": 1,
   "id": "87d68c17-ccd4-44f5-8f85-66e69be3cf83",
   "metadata": {
    "tags": []
   },
   "outputs": [],
   "source": [
    "# Numpy\n",
    "import numpy as np\n",
    "from numpy import radians\n",
    "\n",
    "# Spatial Math is used for manipulating geometric primitives\n",
    "import spatialmath as sm\n",
    "from spatialmath import SE3\n",
    "\n",
    "# UR Interface\n",
    "import rtde_control\n",
    "import rtde_receive\n",
    "# Gripper Interface \n",
    "import serial.tools.list_ports\n",
    "from Motor_Code import Motors\n",
    "\n",
    "# Poses is from rmlib and used for converting between 4 x 4 homogenous pose and 6 element vector representation (x,y,z,rx,ry,rz)\n",
    "import poses\n"
   ]
  },
  {
   "cell_type": "code",
   "execution_count": 2,
   "id": "ad76d6fc-cc36-4f59-93ee-f0a8ac09089c",
   "metadata": {},
   "outputs": [],
   "source": [
    "def pose_vector_to_homog_coord( poseVec ):\n",
    "    \"\"\" Express the pose vector in homogeneous coordinates \"\"\"\n",
    "    # poseVector is a 6 element list of [x, y, z, rX, rY, rZ]\n",
    "    return sm.SE3( poses.pose_vec_to_mtrx( poseVec ) )\n",
    "\n",
    "\n",
    "def homog_coord_to_pose_vector( poseMatrix ):\n",
    "    \"\"\" Converts poseMatrix into a 6 element list of [x, y, z, rX, rY, rZ] \"\"\"\n",
    "    # poseMatrix is a SE3 Object (4 x 4 Homegenous Transform) or numpy array\n",
    "    return poses.pose_mtrx_to_vec( np.array( poseMatrix ) )\n",
    "\n",
    "\n",
    "def get_USB_port_with_desc( descStr ):\n",
    "    \"\"\" Return the name of the first USB port that has `descStr` as a substring of its description, Otherwise return none \"\"\"\n",
    "    match = None\n",
    "    for port, desc, hwid in sorted( serial.tools.list_ports.comports() ):\n",
    "        if descStr in desc:\n",
    "            match = port\n",
    "            break\n",
    "    return match\n",
    "    \n",
    "    "
   ]
  },
  {
   "cell_type": "code",
   "execution_count": 3,
   "id": "020acba1-b399-4772-b2d1-d720ecd44037",
   "metadata": {
    "tags": []
   },
   "outputs": [
    {
     "data": {
      "text/plain": [
       "  \u001b[38;5;1m 0.01703 \u001b[0m \u001b[38;5;1m 0.9995  \u001b[0m \u001b[38;5;1m-0.02821 \u001b[0m \u001b[38;5;4m-0.277   \u001b[0m  \u001b[0m\n",
       "  \u001b[38;5;1m 0.9999  \u001b[0m \u001b[38;5;1m-0.01694 \u001b[0m \u001b[38;5;1m 0.003451\u001b[0m \u001b[38;5;4m-0.304   \u001b[0m  \u001b[0m\n",
       "  \u001b[38;5;1m 0.002971\u001b[0m \u001b[38;5;1m-0.02826 \u001b[0m \u001b[38;5;1m-0.9996  \u001b[0m \u001b[38;5;4m 0.271   \u001b[0m  \u001b[0m\n",
       "  \u001b[38;5;244m 0       \u001b[0m \u001b[38;5;244m 0       \u001b[0m \u001b[38;5;244m 0       \u001b[0m \u001b[38;5;244m 1       \u001b[0m  \u001b[0m\n"
      ]
     },
     "execution_count": 3,
     "metadata": {},
     "output_type": "execute_result"
    }
   ],
   "source": [
    "pose_vector_to_homog_coord( [-0.277, -0.304, 0.271, 2.256, 2.218, -0.028] )"
   ]
  },
  {
   "cell_type": "code",
   "execution_count": 4,
   "id": "e812467f-c6e6-409d-8b7a-3b1c92dd6e14",
   "metadata": {},
   "outputs": [],
   "source": [
    "class UR5_Interface:\n",
    "    \"\"\" Interface class to `ur_rtde` \"\"\"\n",
    "    \n",
    "    def __init__( self, robotIP = \"192.168.0.6\" ):\n",
    "        \"\"\" Store connection params \"\"\"\n",
    "        self.robotIP     = robotIP # IP address of the robot\n",
    "        self.ctrl        = None # -- `RTDEControlInterface` object \n",
    "        self.recv        = None # -- `RTDEReceiveInterface` object \n",
    "        self.gripper     = None # -- Gripper Controller Interface\n",
    "        self.Q_safe      = [ radians( elem ) for elem in [ 12.30, -110.36, 95.90, -75.48, -89.59, 12.33 ] ]\n",
    "        self.torqLim     = 600\n",
    "        self.gripClos_mm = 10\n",
    "        # self.homePose = np.array( # 2023-05-04: This pose is scary\n",
    "        #        [[ 0.0, 1.0,  0.0, -0.277 ],   \n",
    "        #         [ 1.0, 0.0,  0.0, -0.304 ],    \n",
    "        #         [ 0.0, 0.0, -1.0,  0.271 ],     \n",
    "        #         [ 0.0, 0.0,  0.0,  1.0   ]]\n",
    "        # )\n",
    "        # self.homePose = np.array( # 2023-05-04: This pose is scary\n",
    "        #     [[ 0.99955322, -0.02418213, -0.01756664,  0.01498893],\n",
    "        #      [-0.01748495,  0.00358545, -0.9998407 , -0.57686779],\n",
    "        #      [ 0.02424126,  0.99970114,  0.00316103,  0.05545535],\n",
    "        #      [ 0.0       ,  0.0       ,  0.0       ,  1.0       ]]\n",
    "        # )\n",
    "        \n",
    "        \n",
    "    def start( self ):\n",
    "        \"\"\" Connect to RTDE and the gripper \"\"\"\n",
    "        self.ctrl = rtde_control.RTDEControlInterface( self.robotIP )\n",
    "        self.recv = rtde_receive.RTDEReceiveInterface( self.robotIP )\n",
    "        servoPort = get_USB_port_with_desc( \"OpenRB\" )\n",
    "        if servoPort is not None:\n",
    "            self.gripper =  Motors( servoPort )\n",
    "            self.gripper.torquelimit( self.torqLim )\n",
    "        else:\n",
    "            raise RuntimeError( \"Could NOT connect to gripper Dynamixel board!\" )\n",
    "        \n",
    "        \n",
    "    def stop( self ):\n",
    "        \"\"\" Shutdown robot and gripper connections \"\"\"\n",
    "        self.ctrl.servoStop()\n",
    "        self.ctrl.stopScript()\n",
    "        \n",
    "        \n",
    "    def get_joint_angles( self ):\n",
    "        \"\"\" Returns a 6 element numpy array of joint angles (radians) \"\"\"\n",
    "        thetas = np.array( self.recv.getActualQ() )\n",
    "        return thetas\n",
    "    \n",
    "    \n",
    "    def get_tcp_pose( self ):\n",
    "        \"\"\" Returns the current pose of the gripper as a SE3 Object (4 x 4 Homegenous Transform) \"\"\"\n",
    "        return sm.SE3( pose_vector_to_homog_coord( self.recv.getActualTCPPose() ) )\n",
    "    \n",
    "    \n",
    "    def moveJ( self, qGoal, rotSpeed = 1.05, rotAccel = 1.4, blocking = True ):\n",
    "        \"\"\" qGoal is a 6 element numpy array of joint angles (radians) \"\"\"\n",
    "        # speed is joint velocity (rad/s)\n",
    "        self.ctrl.moveJ( list( qGoal ), rotSpeed, rotAccel, blocking )\n",
    "    \n",
    "    \n",
    "    def moveL( self, poseMatrix, linSpeed = 0.25, linAccel = 0.5, blocking = True ):\n",
    "        \"\"\" Moves tool tip pose linearly in cartesian space to goal pose (requires tool pose to be configured) \"\"\"\n",
    "        # poseMatrix is a SE3 Object (4 x 4 Homegenous Transform) or numpy array\n",
    "        # tool pose defined relative to the end of the gripper when closed\n",
    "        self.ctrl.moveL( homog_coord_to_pose_vector( poseMatrix ), linSpeed, linAccel, blocking )\n",
    "    \n",
    "    \n",
    "    def move_safe( self, rotSpeed = 1.05, rotAccel = 1.4, blocking = True ):\n",
    "        \"\"\" Moves the arm linearly in joint space to home pose \"\"\"\n",
    "        self.moveJ( self.Q_safe, rotSpeed, rotAccel, blocking )\n",
    "        # self.moveL( self.homePose, linSpeed, linAccel, blocking )\n",
    "        # self.arm.move(target=homePose,move_type=\"l\")\n",
    "    \n",
    "    \n",
    "    def open_gripper( self ):\n",
    "        \"\"\" Open gripper to the fullest extent \"\"\"\n",
    "        self.gripper.openGripper()\n",
    "    \n",
    "    \n",
    "    def set_gripper( self, width ):\n",
    "        \"\"\" Computes the servo angles needed for the jaws to be width mm apart \"\"\"\n",
    "        # Sends command over serial to the gripper to hold those angles\n",
    "        dTheta = self.gripper.distance2theta( width )\n",
    "        self.gripper.position( dTheta )\n",
    "        \n",
    "        \n",
    "    def close_gripper( self ):\n",
    "        \"\"\" Set the gripper fingers to near-zero gap \"\"\"\n",
    "        self.set_gripper( self.gripClos_mm )\n",
    "        \n",
    "        \n",
    "    def testRoutine( self ):\n",
    "        # Moves ur +1 cm in world frame z-axis and then opens, closes, and opens gripper \n",
    "        print(\"Running Test Routine\")\n",
    "        initPose = np.array(self.getPose())\n",
    "        print(f\"TCP Pose:\\n{initPose}\")\n",
    "        dX,dY,dZ = 0,0,2/100 # in m\n",
    "        goalPose = initPose\n",
    "        goalPose[2][3] += dZ\n",
    "        goalPose = sm.SE3(goalPose)\n",
    "        print(f\"Goal TCP Pose:\\n{goalPose}\")\n",
    "        self.moveL(sm.SE3(goalPose))\n",
    "        print(f\"Final TCP Pose:\\n{self.getPose()}\")\n",
    "        print(\"Opening Gripper\")\n",
    "        self.openGripper()\n",
    "        time.sleep(1)\n",
    "        self.ctrlloseGripper(10)\n",
    "        time.sleep(2)\n",
    "        self.openGripper()"
   ]
  },
  {
   "cell_type": "code",
   "execution_count": 5,
   "id": "e380ea0f-e4b5-4d08-bc12-1a6b9cab9d8b",
   "metadata": {
    "tags": []
   },
   "outputs": [],
   "source": [
    "robot = UR5_Interface()"
   ]
  },
  {
   "cell_type": "code",
   "execution_count": 7,
   "id": "aabd6ff4-153b-41dd-935f-c99a2ec1b604",
   "metadata": {
    "tags": []
   },
   "outputs": [
    {
     "name": "stdout",
     "output_type": "stream",
     "text": [
      "Succeeded to open the port\n",
      "Succeeded to change the baudrate\n",
      "Moving speed of dxl ID: 1 set to 100 \n",
      "Moving speed of dxl ID: 2 set to 100 \n"
     ]
    }
   ],
   "source": [
    "robot.start()"
   ]
  },
  {
   "cell_type": "code",
   "execution_count": 7,
   "id": "f9d0b5f3-9edd-4bb7-8a18-b862405a6c04",
   "metadata": {
    "tags": []
   },
   "outputs": [],
   "source": [
    "robot.move_safe()"
   ]
  },
  {
   "cell_type": "code",
   "execution_count": 8,
   "id": "18dd8fbc-2133-4111-a8dc-486b5be324c9",
   "metadata": {
    "tags": []
   },
   "outputs": [
    {
     "name": "stdout",
     "output_type": "stream",
     "text": [
      "Position of dxl ID: 1 set to 549 \n",
      "Position of dxl ID: 2 set to 490 \n"
     ]
    }
   ],
   "source": [
    "robot.close_gripper()"
   ]
  },
  {
   "cell_type": "code",
   "execution_count": 10,
   "id": "7c4e9c64-5e19-4631-84e3-5d8e891b5d0f",
   "metadata": {
    "tags": []
   },
   "outputs": [
    {
     "name": "stdout",
     "output_type": "stream",
     "text": [
      "Position of dxl ID: 1 set to 303 \n",
      "Position of dxl ID: 2 set to 729 \n"
     ]
    }
   ],
   "source": [
    "robot.open_gripper()"
   ]
  },
  {
   "cell_type": "code",
   "execution_count": 11,
   "id": "10fbf90e-9f54-4b14-9ca3-17311844293f",
   "metadata": {
    "tags": []
   },
   "outputs": [
    {
     "name": "stdout",
     "output_type": "stream",
     "text": [
      "Position of dxl ID: 1 set to 505 \n",
      "Position of dxl ID: 2 set to 534 \n"
     ]
    }
   ],
   "source": [
    "robot.set_gripper( 30 )"
   ]
  },
  {
   "cell_type": "code",
   "execution_count": 7,
   "id": "c6c95fa3-936f-452e-9033-b448ff7b0d6b",
   "metadata": {},
   "outputs": [],
   "source": [
    "robot.stop()"
   ]
  },
  {
   "cell_type": "code",
   "execution_count": null,
   "id": "5e9e17c1-5861-4749-8a7a-91da49588416",
   "metadata": {},
   "outputs": [],
   "source": []
  }
 ],
 "metadata": {
  "kernelspec": {
   "display_name": "Python 3 (ipykernel)",
   "language": "python",
   "name": "python3"
  },
  "language_info": {
   "codemirror_mode": {
    "name": "ipython",
    "version": 3
   },
   "file_extension": ".py",
   "mimetype": "text/x-python",
   "name": "python",
   "nbconvert_exporter": "python",
   "pygments_lexer": "ipython3",
   "version": "3.9.16"
  }
 },
 "nbformat": 4,
 "nbformat_minor": 5
}
