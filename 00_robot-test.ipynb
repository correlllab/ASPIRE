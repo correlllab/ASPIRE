{
 "cells": [
  {
   "cell_type": "code",
   "execution_count": 1,
   "id": "87d68c17-ccd4-44f5-8f85-66e69be3cf83",
   "metadata": {
    "tags": []
   },
   "outputs": [],
   "source": [
    "# Numpy\n",
    "import numpy as np\n",
    "from numpy import radians\n",
    "\n",
    "# Spatial Math is used for manipulating geometric primitives\n",
    "import spatialmath as sm\n",
    "from spatialmath import SE3\n",
    "\n",
    "# UR Interface\n",
    "import rtde_control\n",
    "import rtde_receive\n",
    "# Gripper Interface \n",
    "import serial.tools.list_ports\n",
    "from Motor_Code import Motors\n",
    "\n",
    "# Poses is from rmlib and used for converting between 4 x 4 homogenous pose and 6 element vector representation (x,y,z,rx,ry,rz)\n",
    "import poses\n"
   ]
  },
  {
   "cell_type": "code",
   "execution_count": 2,
   "id": "ad76d6fc-cc36-4f59-93ee-f0a8ac09089c",
   "metadata": {},
   "outputs": [],
   "source": [
    "def pose_vector_to_homog_coord( poseVec ):\n",
    "    \"\"\" Express the pose vector in homogeneous coordinates \"\"\"\n",
    "    # poseVector is a 6 element list of [x, y, z, rX, rY, rZ]\n",
    "    return sm.SE3( poses.pose_vec_to_mtrx( poseVec ) )\n",
    "\n",
    "\n",
    "def homog_coord_to_pose_vector( poseMatrix ):\n",
    "    \"\"\" Converts poseMatrix into a 6 element list of [x, y, z, rX, rY, rZ] \"\"\"\n",
    "    # poseMatrix is a SE3 Object (4 x 4 Homegenous Transform) or numpy array\n",
    "    return poses.pose_mtrx_to_vec( np.array( poseMatrix ) )\n",
    "\n",
    "\n",
    "def get_USB_port_with_desc( descStr ):\n",
    "    \"\"\" Return the name of the first USB port that has `descStr` as a substring of its description, Otherwise return none \"\"\"\n",
    "    match = None\n",
    "    for port, desc, hwid in sorted( serial.tools.list_ports.comports() ):\n",
    "        if descStr in desc:\n",
    "            match = port\n",
    "            break\n",
    "    return match\n",
    "    \n",
    "    "
   ]
  },
  {
   "cell_type": "code",
   "execution_count": 3,
   "id": "020acba1-b399-4772-b2d1-d720ecd44037",
   "metadata": {
    "tags": []
   },
   "outputs": [
    {
     "data": {
      "text/plain": [
       "  \u001b[38;5;1m 0.01703 \u001b[0m \u001b[38;5;1m 0.9995  \u001b[0m \u001b[38;5;1m-0.02821 \u001b[0m \u001b[38;5;4m-0.277   \u001b[0m  \u001b[0m\n",
       "  \u001b[38;5;1m 0.9999  \u001b[0m \u001b[38;5;1m-0.01694 \u001b[0m \u001b[38;5;1m 0.003451\u001b[0m \u001b[38;5;4m-0.304   \u001b[0m  \u001b[0m\n",
       "  \u001b[38;5;1m 0.002971\u001b[0m \u001b[38;5;1m-0.02826 \u001b[0m \u001b[38;5;1m-0.9996  \u001b[0m \u001b[38;5;4m 0.271   \u001b[0m  \u001b[0m\n",
       "  \u001b[38;5;244m 0       \u001b[0m \u001b[38;5;244m 0       \u001b[0m \u001b[38;5;244m 0       \u001b[0m \u001b[38;5;244m 1       \u001b[0m  \u001b[0m\n"
      ]
     },
     "execution_count": 3,
     "metadata": {},
     "output_type": "execute_result"
    }
   ],
   "source": [
    "pose_vector_to_homog_coord( [-0.277, -0.304, 0.271, 2.256, 2.218, -0.028] )"
   ]
  },
  {
   "cell_type": "code",
   "execution_count": 4,
   "id": "e812467f-c6e6-409d-8b7a-3b1c92dd6e14",
   "metadata": {},
   "outputs": [],
   "source": [
    "class UR5_Interface:\n",
    "    \"\"\" Interface class to `ur_rtde` \"\"\"\n",
    "    \n",
    "    def __init__( self, robotIP = \"192.168.0.6\" ):\n",
    "        \"\"\" Store connection params \"\"\"\n",
    "        self.robotIP     = robotIP # IP address of the robot\n",
    "        self.ctrl        = None # -- `RTDEControlInterface` object \n",
    "        self.recv        = None # -- `RTDEReceiveInterface` object \n",
    "        self.gripper     = None # -- Gripper Controller Interface\n",
    "        self.Q_safe      = [ radians( elem ) for elem in [ 12.30, -110.36, 95.90, -75.48, -89.59, 12.33 ] ]\n",
    "        self.torqLim     = 600\n",
    "        self.gripClos_mm = 10\n",
    "        # self.homePose = np.array( # 2023-05-04: This pose is scary\n",
    "        #        [[ 0.0, 1.0,  0.0, -0.277 ],   \n",
    "        #         [ 1.0, 0.0,  0.0, -0.304 ],    \n",
    "        #         [ 0.0, 0.0, -1.0,  0.271 ],     \n",
    "        #         [ 0.0, 0.0,  0.0,  1.0   ]]\n",
    "        # )\n",
    "        # self.homePose = np.array( # 2023-05-04: This pose is scary\n",
    "        #     [[ 0.99955322, -0.02418213, -0.01756664,  0.01498893],\n",
    "        #      [-0.01748495,  0.00358545, -0.9998407 , -0.57686779],\n",
    "        #      [ 0.02424126,  0.99970114,  0.00316103,  0.05545535],\n",
    "        #      [ 0.0       ,  0.0       ,  0.0       ,  1.0       ]]\n",
    "        # )\n",
    "        \n",
    "        \n",
    "    def start( self ):\n",
    "        \"\"\" Connect to RTDE and the gripper \"\"\"\n",
    "        self.ctrl = rtde_control.RTDEControlInterface( self.robotIP )\n",
    "        self.recv = rtde_receive.RTDEReceiveInterface( self.robotIP )\n",
    "        servoPort = get_USB_port_with_desc( \"OpenRB\" )\n",
    "        if servoPort is not None:\n",
    "            self.gripper =  Motors( servoPort )\n",
    "            self.gripper.torquelimit( self.torqLim )\n",
    "        else:\n",
    "            raise RuntimeError( \"Could NOT connect to gripper Dynamixel board!\" )\n",
    "        \n",
    "        \n",
    "    def stop( self ):\n",
    "        \"\"\" Shutdown robot and gripper connections \"\"\"\n",
    "        self.ctrl.servoStop()\n",
    "        self.ctrl.stopScript()\n",
    "        \n",
    "        \n",
    "    def get_joint_angles( self ):\n",
    "        \"\"\" Returns a 6 element numpy array of joint angles (radians) \"\"\"\n",
    "        thetas = np.array( self.recv.getActualQ() )\n",
    "        return thetas\n",
    "    \n",
    "    \n",
    "    def get_tcp_pose( self ):\n",
    "        \"\"\" Returns the current pose of the gripper as a SE3 Object (4 x 4 Homegenous Transform) \"\"\"\n",
    "        return sm.SE3( pose_vector_to_homog_coord( self.recv.getActualTCPPose() ) )\n",
    "    \n",
    "    \n",
    "    def moveJ( self, qGoal, rotSpeed = 1.05, rotAccel = 1.4, blocking = True ):\n",
    "        \"\"\" qGoal is a 6 element numpy array of joint angles (radians) \"\"\"\n",
    "        # speed is joint velocity (rad/s)\n",
    "        self.ctrl.moveJ( list( qGoal ), rotSpeed, rotAccel, blocking )\n",
    "    \n",
    "    \n",
    "    def moveL( self, poseMatrix, linSpeed = 0.25, linAccel = 0.5, blocking = True ):\n",
    "        \"\"\" Moves tool tip pose linearly in cartesian space to goal pose (requires tool pose to be configured) \"\"\"\n",
    "        # poseMatrix is a SE3 Object (4 x 4 Homegenous Transform) or numpy array\n",
    "        # tool pose defined relative to the end of the gripper when closed\n",
    "        self.ctrl.moveL( homog_coord_to_pose_vector( poseMatrix ), linSpeed, linAccel, blocking )\n",
    "    \n",
    "    \n",
    "    def move_safe( self, rotSpeed = 1.05, rotAccel = 1.4, blocking = True ):\n",
    "        \"\"\" Moves the arm linearly in joint space to home pose \"\"\"\n",
    "        self.moveJ( self.Q_safe, rotSpeed, rotAccel, blocking )\n",
    "        # self.moveL( self.homePose, linSpeed, linAccel, blocking )\n",
    "        # self.arm.move(target=homePose,move_type=\"l\")\n",
    "    \n",
    "    \n",
    "    def open_gripper( self ):\n",
    "        \"\"\" Open gripper to the fullest extent \"\"\"\n",
    "        self.gripper.openGripper()\n",
    "    \n",
    "    \n",
    "    def set_gripper( self, width ):\n",
    "        \"\"\" Computes the servo angles needed for the jaws to be width mm apart \"\"\"\n",
    "        # Sends command over serial to the gripper to hold those angles\n",
    "        dTheta = self.gripper.distance2theta( width )\n",
    "        self.gripper.position( dTheta )\n",
    "        \n",
    "        \n",
    "    def close_gripper( self ):\n",
    "        \"\"\" Set the gripper fingers to near-zero gap \"\"\"\n",
    "        self.set_gripper( self.gripClos_mm )\n",
    "        \n",
    "        \n",
    "    def testRoutine( self ):\n",
    "        # Moves ur +1 cm in world frame z-axis and then opens, closes, and opens gripper \n",
    "        print(\"Running Test Routine\")\n",
    "        initPose = np.array(self.getPose())\n",
    "        print(f\"TCP Pose:\\n{initPose}\")\n",
    "        dX,dY,dZ = 0,0,2/100 # in m\n",
    "        goalPose = initPose\n",
    "        goalPose[2][3] += dZ\n",
    "        goalPose = sm.SE3(goalPose)\n",
    "        print(f\"Goal TCP Pose:\\n{goalPose}\")\n",
    "        self.moveL(sm.SE3(goalPose))\n",
    "        print(f\"Final TCP Pose:\\n{self.getPose()}\")\n",
    "        print(\"Opening Gripper\")\n",
    "        self.openGripper()\n",
    "        time.sleep(1)\n",
    "        self.ctrlloseGripper(10)\n",
    "        time.sleep(2)\n",
    "        self.openGripper()"
   ]
  },
  {
   "cell_type": "code",
   "execution_count": 5,
   "id": "e380ea0f-e4b5-4d08-bc12-1a6b9cab9d8b",
   "metadata": {
    "tags": []
   },
   "outputs": [],
   "source": [
    "robot = UR5_Interface()"
   ]
  },
  {
   "cell_type": "code",
   "execution_count": 6,
   "id": "aabd6ff4-153b-41dd-935f-c99a2ec1b604",
   "metadata": {
    "tags": []
   },
   "outputs": [
    {
     "ename": "SerialException",
     "evalue": "[Errno 13] could not open port /dev/ttyACM0: [Errno 13] Permission denied: '/dev/ttyACM0'",
     "output_type": "error",
     "traceback": [
      "\u001b[0;31m---------------------------------------------------------------------------\u001b[0m",
      "\u001b[0;31mPermissionError\u001b[0m                           Traceback (most recent call last)",
      "File \u001b[0;32m~/.local/lib/python3.9/site-packages/serial/serialposix.py:322\u001b[0m, in \u001b[0;36mSerial.open\u001b[0;34m(self)\u001b[0m\n\u001b[1;32m    321\u001b[0m \u001b[38;5;28;01mtry\u001b[39;00m:\n\u001b[0;32m--> 322\u001b[0m     \u001b[38;5;28mself\u001b[39m\u001b[38;5;241m.\u001b[39mfd \u001b[38;5;241m=\u001b[39m \u001b[43mos\u001b[49m\u001b[38;5;241;43m.\u001b[39;49m\u001b[43mopen\u001b[49m\u001b[43m(\u001b[49m\u001b[38;5;28;43mself\u001b[39;49m\u001b[38;5;241;43m.\u001b[39;49m\u001b[43mportstr\u001b[49m\u001b[43m,\u001b[49m\u001b[43m \u001b[49m\u001b[43mos\u001b[49m\u001b[38;5;241;43m.\u001b[39;49m\u001b[43mO_RDWR\u001b[49m\u001b[43m \u001b[49m\u001b[38;5;241;43m|\u001b[39;49m\u001b[43m \u001b[49m\u001b[43mos\u001b[49m\u001b[38;5;241;43m.\u001b[39;49m\u001b[43mO_NOCTTY\u001b[49m\u001b[43m \u001b[49m\u001b[38;5;241;43m|\u001b[39;49m\u001b[43m \u001b[49m\u001b[43mos\u001b[49m\u001b[38;5;241;43m.\u001b[39;49m\u001b[43mO_NONBLOCK\u001b[49m\u001b[43m)\u001b[49m\n\u001b[1;32m    323\u001b[0m \u001b[38;5;28;01mexcept\u001b[39;00m \u001b[38;5;167;01mOSError\u001b[39;00m \u001b[38;5;28;01mas\u001b[39;00m msg:\n",
      "\u001b[0;31mPermissionError\u001b[0m: [Errno 13] Permission denied: '/dev/ttyACM0'",
      "\nDuring handling of the above exception, another exception occurred:\n",
      "\u001b[0;31mSerialException\u001b[0m                           Traceback (most recent call last)",
      "Cell \u001b[0;32mIn[6], line 1\u001b[0m\n\u001b[0;32m----> 1\u001b[0m \u001b[43mrobot\u001b[49m\u001b[38;5;241;43m.\u001b[39;49m\u001b[43mstart\u001b[49m\u001b[43m(\u001b[49m\u001b[43m)\u001b[49m\n",
      "Cell \u001b[0;32mIn[4], line 33\u001b[0m, in \u001b[0;36mUR5_Interface.start\u001b[0;34m(self)\u001b[0m\n\u001b[1;32m     31\u001b[0m servoPort \u001b[38;5;241m=\u001b[39m get_USB_port_with_desc( \u001b[38;5;124m\"\u001b[39m\u001b[38;5;124mOpenRB\u001b[39m\u001b[38;5;124m\"\u001b[39m )\n\u001b[1;32m     32\u001b[0m \u001b[38;5;28;01mif\u001b[39;00m servoPort \u001b[38;5;129;01mis\u001b[39;00m \u001b[38;5;129;01mnot\u001b[39;00m \u001b[38;5;28;01mNone\u001b[39;00m:\n\u001b[0;32m---> 33\u001b[0m     \u001b[38;5;28mself\u001b[39m\u001b[38;5;241m.\u001b[39mgripper \u001b[38;5;241m=\u001b[39m  \u001b[43mMotors\u001b[49m\u001b[43m(\u001b[49m\u001b[43m \u001b[49m\u001b[43mservoPort\u001b[49m\u001b[43m \u001b[49m\u001b[43m)\u001b[49m\n\u001b[1;32m     34\u001b[0m     \u001b[38;5;28mself\u001b[39m\u001b[38;5;241m.\u001b[39mgripper\u001b[38;5;241m.\u001b[39mtorquelimit( \u001b[38;5;28mself\u001b[39m\u001b[38;5;241m.\u001b[39mtorqLim )\n\u001b[1;32m     35\u001b[0m \u001b[38;5;28;01melse\u001b[39;00m:\n",
      "File \u001b[0;32m~/MAGPIE/Motor_Code.py:10\u001b[0m, in \u001b[0;36mMotors.__init__\u001b[0;34m(self, portName)\u001b[0m\n\u001b[1;32m      8\u001b[0m Ax12\u001b[38;5;241m.\u001b[39mBAUDRATE \u001b[38;5;241m=\u001b[39m \u001b[38;5;241m1_000_000\u001b[39m\n\u001b[1;32m      9\u001b[0m \u001b[38;5;66;03m# sets baudrate and opens com port\u001b[39;00m\n\u001b[0;32m---> 10\u001b[0m \u001b[43mAx12\u001b[49m\u001b[38;5;241;43m.\u001b[39;49m\u001b[43mconnect\u001b[49m\u001b[43m(\u001b[49m\u001b[43m)\u001b[49m\n\u001b[1;32m     11\u001b[0m \u001b[38;5;66;03m# create AX12 instance with ID 1 and 2\u001b[39;00m\n\u001b[1;32m     12\u001b[0m \u001b[38;5;66;03m#Motor ID1 should be on the right with the camera facing you\u001b[39;00m\n\u001b[1;32m     13\u001b[0m motor_id1 \u001b[38;5;241m=\u001b[39m \u001b[38;5;241m1\u001b[39m\n",
      "File \u001b[0;32m~/MAGPIE/Ax12.py:331\u001b[0m, in \u001b[0;36mAx12.connect\u001b[0;34m(cls)\u001b[0m\n\u001b[1;32m    329\u001b[0m \u001b[38;5;129m@classmethod\u001b[39m\n\u001b[1;32m    330\u001b[0m \u001b[38;5;28;01mdef\u001b[39;00m \u001b[38;5;21mconnect\u001b[39m(\u001b[38;5;28mcls\u001b[39m):\n\u001b[0;32m--> 331\u001b[0m     \u001b[38;5;28;43mcls\u001b[39;49m\u001b[38;5;241;43m.\u001b[39;49m\u001b[43mopen_port\u001b[49m\u001b[43m(\u001b[49m\u001b[43m)\u001b[49m\n\u001b[1;32m    332\u001b[0m     \u001b[38;5;28mcls\u001b[39m\u001b[38;5;241m.\u001b[39mset_baudrate()\n\u001b[1;32m    333\u001b[0m     \u001b[38;5;28mcls\u001b[39m\u001b[38;5;241m.\u001b[39mpacketHandler \u001b[38;5;241m=\u001b[39m PacketHandler(\u001b[38;5;28mcls\u001b[39m\u001b[38;5;241m.\u001b[39mPROTOCOL_VERSION)\n",
      "File \u001b[0;32m~/MAGPIE/Ax12.py:313\u001b[0m, in \u001b[0;36mAx12.open_port\u001b[0;34m(cls)\u001b[0m\n\u001b[1;32m    310\u001b[0m \u001b[38;5;129m@classmethod\u001b[39m\n\u001b[1;32m    311\u001b[0m \u001b[38;5;28;01mdef\u001b[39;00m \u001b[38;5;21mopen_port\u001b[39m(\u001b[38;5;28mcls\u001b[39m):\n\u001b[1;32m    312\u001b[0m     \u001b[38;5;28mcls\u001b[39m\u001b[38;5;241m.\u001b[39mportHandler \u001b[38;5;241m=\u001b[39m PortHandler(\u001b[38;5;28mcls\u001b[39m\u001b[38;5;241m.\u001b[39mDEVICENAME)\n\u001b[0;32m--> 313\u001b[0m     \u001b[38;5;28;01mif\u001b[39;00m \u001b[38;5;28;43mcls\u001b[39;49m\u001b[38;5;241;43m.\u001b[39;49m\u001b[43mportHandler\u001b[49m\u001b[38;5;241;43m.\u001b[39;49m\u001b[43mopenPort\u001b[49m\u001b[43m(\u001b[49m\u001b[43m)\u001b[49m:\n\u001b[1;32m    314\u001b[0m         \u001b[38;5;28mprint\u001b[39m(\u001b[38;5;124m\"\u001b[39m\u001b[38;5;124mSucceeded to open the port\u001b[39m\u001b[38;5;124m\"\u001b[39m)\n\u001b[1;32m    315\u001b[0m     \u001b[38;5;28;01melse\u001b[39;00m:\n",
      "File \u001b[0;32m~/.local/lib/python3.9/site-packages/dynamixel_sdk/port_handler.py:44\u001b[0m, in \u001b[0;36mPortHandler.openPort\u001b[0;34m(self)\u001b[0m\n\u001b[1;32m     43\u001b[0m \u001b[38;5;28;01mdef\u001b[39;00m \u001b[38;5;21mopenPort\u001b[39m(\u001b[38;5;28mself\u001b[39m):\n\u001b[0;32m---> 44\u001b[0m     \u001b[38;5;28;01mreturn\u001b[39;00m \u001b[38;5;28;43mself\u001b[39;49m\u001b[38;5;241;43m.\u001b[39;49m\u001b[43msetBaudRate\u001b[49m\u001b[43m(\u001b[49m\u001b[38;5;28;43mself\u001b[39;49m\u001b[38;5;241;43m.\u001b[39;49m\u001b[43mbaudrate\u001b[49m\u001b[43m)\u001b[49m\n",
      "File \u001b[0;32m~/.local/lib/python3.9/site-packages/dynamixel_sdk/port_handler.py:68\u001b[0m, in \u001b[0;36mPortHandler.setBaudRate\u001b[0;34m(self, baudrate)\u001b[0m\n\u001b[1;32m     66\u001b[0m \u001b[38;5;28;01melse\u001b[39;00m:\n\u001b[1;32m     67\u001b[0m     \u001b[38;5;28mself\u001b[39m\u001b[38;5;241m.\u001b[39mbaudrate \u001b[38;5;241m=\u001b[39m baudrate\n\u001b[0;32m---> 68\u001b[0m     \u001b[38;5;28;01mreturn\u001b[39;00m \u001b[38;5;28;43mself\u001b[39;49m\u001b[38;5;241;43m.\u001b[39;49m\u001b[43msetupPort\u001b[49m\u001b[43m(\u001b[49m\u001b[43mbaud\u001b[49m\u001b[43m)\u001b[49m\n",
      "File \u001b[0;32m~/.local/lib/python3.9/site-packages/dynamixel_sdk/port_handler.py:114\u001b[0m, in \u001b[0;36mPortHandler.setupPort\u001b[0;34m(self, cflag_baud)\u001b[0m\n\u001b[1;32m    111\u001b[0m \u001b[38;5;28;01mif\u001b[39;00m \u001b[38;5;28mself\u001b[39m\u001b[38;5;241m.\u001b[39mis_open:\n\u001b[1;32m    112\u001b[0m     \u001b[38;5;28mself\u001b[39m\u001b[38;5;241m.\u001b[39mclosePort()\n\u001b[0;32m--> 114\u001b[0m \u001b[38;5;28mself\u001b[39m\u001b[38;5;241m.\u001b[39mser \u001b[38;5;241m=\u001b[39m \u001b[43mserial\u001b[49m\u001b[38;5;241;43m.\u001b[39;49m\u001b[43mSerial\u001b[49m\u001b[43m(\u001b[49m\n\u001b[1;32m    115\u001b[0m \u001b[43m    \u001b[49m\u001b[43mport\u001b[49m\u001b[38;5;241;43m=\u001b[39;49m\u001b[38;5;28;43mself\u001b[39;49m\u001b[38;5;241;43m.\u001b[39;49m\u001b[43mport_name\u001b[49m\u001b[43m,\u001b[49m\n\u001b[1;32m    116\u001b[0m \u001b[43m    \u001b[49m\u001b[43mbaudrate\u001b[49m\u001b[38;5;241;43m=\u001b[39;49m\u001b[38;5;28;43mself\u001b[39;49m\u001b[38;5;241;43m.\u001b[39;49m\u001b[43mbaudrate\u001b[49m\u001b[43m,\u001b[49m\n\u001b[1;32m    117\u001b[0m \u001b[43m    \u001b[49m\u001b[38;5;66;43;03m# parity = serial.PARITY_ODD,\u001b[39;49;00m\n\u001b[1;32m    118\u001b[0m \u001b[43m    \u001b[49m\u001b[38;5;66;43;03m# stopbits = serial.STOPBITS_TWO,\u001b[39;49;00m\n\u001b[1;32m    119\u001b[0m \u001b[43m    \u001b[49m\u001b[43mbytesize\u001b[49m\u001b[38;5;241;43m=\u001b[39;49m\u001b[43mserial\u001b[49m\u001b[38;5;241;43m.\u001b[39;49m\u001b[43mEIGHTBITS\u001b[49m\u001b[43m,\u001b[49m\n\u001b[1;32m    120\u001b[0m \u001b[43m    \u001b[49m\u001b[43mtimeout\u001b[49m\u001b[38;5;241;43m=\u001b[39;49m\u001b[38;5;241;43m0\u001b[39;49m\n\u001b[1;32m    121\u001b[0m \u001b[43m\u001b[49m\u001b[43m)\u001b[49m\n\u001b[1;32m    123\u001b[0m \u001b[38;5;28mself\u001b[39m\u001b[38;5;241m.\u001b[39mis_open \u001b[38;5;241m=\u001b[39m \u001b[38;5;28;01mTrue\u001b[39;00m\n\u001b[1;32m    125\u001b[0m \u001b[38;5;28mself\u001b[39m\u001b[38;5;241m.\u001b[39mser\u001b[38;5;241m.\u001b[39mreset_input_buffer()\n",
      "File \u001b[0;32m~/.local/lib/python3.9/site-packages/serial/serialutil.py:244\u001b[0m, in \u001b[0;36mSerialBase.__init__\u001b[0;34m(self, port, baudrate, bytesize, parity, stopbits, timeout, xonxoff, rtscts, write_timeout, dsrdtr, inter_byte_timeout, exclusive, **kwargs)\u001b[0m\n\u001b[1;32m    241\u001b[0m     \u001b[38;5;28;01mraise\u001b[39;00m \u001b[38;5;167;01mValueError\u001b[39;00m(\u001b[38;5;124m'\u001b[39m\u001b[38;5;124munexpected keyword arguments: \u001b[39m\u001b[38;5;132;01m{!r}\u001b[39;00m\u001b[38;5;124m'\u001b[39m\u001b[38;5;241m.\u001b[39mformat(kwargs))\n\u001b[1;32m    243\u001b[0m \u001b[38;5;28;01mif\u001b[39;00m port \u001b[38;5;129;01mis\u001b[39;00m \u001b[38;5;129;01mnot\u001b[39;00m \u001b[38;5;28;01mNone\u001b[39;00m:\n\u001b[0;32m--> 244\u001b[0m     \u001b[38;5;28;43mself\u001b[39;49m\u001b[38;5;241;43m.\u001b[39;49m\u001b[43mopen\u001b[49m\u001b[43m(\u001b[49m\u001b[43m)\u001b[49m\n",
      "File \u001b[0;32m~/.local/lib/python3.9/site-packages/serial/serialposix.py:325\u001b[0m, in \u001b[0;36mSerial.open\u001b[0;34m(self)\u001b[0m\n\u001b[1;32m    323\u001b[0m \u001b[38;5;28;01mexcept\u001b[39;00m \u001b[38;5;167;01mOSError\u001b[39;00m \u001b[38;5;28;01mas\u001b[39;00m msg:\n\u001b[1;32m    324\u001b[0m     \u001b[38;5;28mself\u001b[39m\u001b[38;5;241m.\u001b[39mfd \u001b[38;5;241m=\u001b[39m \u001b[38;5;28;01mNone\u001b[39;00m\n\u001b[0;32m--> 325\u001b[0m     \u001b[38;5;28;01mraise\u001b[39;00m SerialException(msg\u001b[38;5;241m.\u001b[39merrno, \u001b[38;5;124m\"\u001b[39m\u001b[38;5;124mcould not open port \u001b[39m\u001b[38;5;132;01m{}\u001b[39;00m\u001b[38;5;124m: \u001b[39m\u001b[38;5;132;01m{}\u001b[39;00m\u001b[38;5;124m\"\u001b[39m\u001b[38;5;241m.\u001b[39mformat(\u001b[38;5;28mself\u001b[39m\u001b[38;5;241m.\u001b[39m_port, msg))\n\u001b[1;32m    326\u001b[0m \u001b[38;5;66;03m#~ fcntl.fcntl(self.fd, fcntl.F_SETFL, 0)  # set blocking\u001b[39;00m\n\u001b[1;32m    328\u001b[0m \u001b[38;5;28mself\u001b[39m\u001b[38;5;241m.\u001b[39mpipe_abort_read_r, \u001b[38;5;28mself\u001b[39m\u001b[38;5;241m.\u001b[39mpipe_abort_read_w \u001b[38;5;241m=\u001b[39m \u001b[38;5;28;01mNone\u001b[39;00m, \u001b[38;5;28;01mNone\u001b[39;00m\n",
      "\u001b[0;31mSerialException\u001b[0m: [Errno 13] could not open port /dev/ttyACM0: [Errno 13] Permission denied: '/dev/ttyACM0'"
     ]
    }
   ],
   "source": [
    "robot.start()"
   ]
  },
  {
   "cell_type": "code",
   "execution_count": 7,
   "id": "f9d0b5f3-9edd-4bb7-8a18-b862405a6c04",
   "metadata": {
    "tags": []
   },
   "outputs": [],
   "source": [
    "robot.move_safe()"
   ]
  },
  {
   "cell_type": "code",
   "execution_count": 7,
   "id": "c6c95fa3-936f-452e-9033-b448ff7b0d6b",
   "metadata": {},
   "outputs": [],
   "source": [
    "robot.stop()"
   ]
  },
  {
   "cell_type": "code",
   "execution_count": null,
   "id": "5e9e17c1-5861-4749-8a7a-91da49588416",
   "metadata": {},
   "outputs": [],
   "source": []
  }
 ],
 "metadata": {
  "kernelspec": {
   "display_name": "Python 3 (ipykernel)",
   "language": "python",
   "name": "python3"
  },
  "language_info": {
   "codemirror_mode": {
    "name": "ipython",
    "version": 3
   },
   "file_extension": ".py",
   "mimetype": "text/x-python",
   "name": "python",
   "nbconvert_exporter": "python",
   "pygments_lexer": "ipython3",
   "version": "3.9.16"
  }
 },
 "nbformat": 4,
 "nbformat_minor": 5
}
