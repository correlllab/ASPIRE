{
 "cells": [
  {
   "cell_type": "code",
   "execution_count": 4,
   "metadata": {},
   "outputs": [
    {
     "name": "stdout",
     "output_type": "stream",
     "text": [
      "Jupyter environment detected. Enabling Open3D WebVisualizer.\n",
      "[Open3D INFO] WebRTC GUI backend enabled.\n",
      "[Open3D INFO] WebRTCWindowSystem: HTTP handshake server disabled.\n"
     ]
    }
   ],
   "source": [
    "from magpie import grasp as gt\n",
    "import rtde_control\n",
    "import rtde_receive\n",
    "from magpie.motor_code import Motors\n",
    "from magpie import ur5 as ur5\n",
    "import time\n"
   ]
  },
  {
   "cell_type": "code",
   "execution_count": 4,
   "metadata": {},
   "outputs": [
    {
     "name": "stdout",
     "output_type": "stream",
     "text": [
      "Succeeded to open the port\n",
      "Succeeded to change the baudrate\n",
      "Moving speed of dxl ID: 1 set to 100 \n",
      "Moving speed of dxl ID: 2 set to 100 \n",
      "Moving speed of dxl ID: 1 set to 100 \n",
      "Moving speed of dxl ID: 2 set to 100 \n",
      "UR5 + Gripper Interface Established\n",
      "P_goal:\n",
      "[ 0.02738768 -0.19087895 -0.17506409]\n",
      "Done moving to block\n",
      "Position of dxl ID: 1 set to 303 \n",
      "Position of dxl ID: 2 set to 729 \n",
      "Position of dxl ID: 1 set to 303 \n",
      "Position of dxl ID: 2 set to 729 \n",
      "Successfully closed port\n"
     ]
    }
   ],
   "source": [
    "# Full test\n",
    "sleepRate = 1.5\n",
    "\n",
    "mc = [0.04457976669731167, 0.02929602177108023, 0.23656297445601346]\n",
    "\n",
    "\n",
    "grasp_pose = mc\n",
    "# grasp_pose = [mc[1], -mc[0], mc[2]]\n",
    "try:\n",
    "    robotIP = \"192.168.0.6\"\n",
    "    con = rtde_control.RTDEControlInterface(robotIP)\n",
    "    rec = rtde_receive.RTDEReceiveInterface(robotIP)\n",
    "    servoPort = \"/dev/ttyACM0\"\n",
    "    gripperController = Motors(servoPort)\n",
    "    gripperController.torquelimit(600) # used to be 600\n",
    "    gripperController.speedlimit(100)\n",
    "    ur = ur5.UR5_Interface()\n",
    "    ur.gripperController = gripperController\n",
    "    try:\n",
    "        ur.c = con\n",
    "        ur.r = rec\n",
    "        ur.gripperController = gripperController\n",
    "    except Exception as e:\n",
    "        raise(e)\n",
    "    else:\n",
    "        print(\"UR5 + Gripper Interface Established\")\n",
    "            \n",
    "    # print(f\"res: {projectToWorldCoords(res)} \")\n",
    "    # ur.openGripper() # Open gripper\n",
    "    # ur.testRoutine()\n",
    "    homePose = ur.getPose()\n",
    "    x_mod = 0.0\n",
    "    y_mod = 0.0\n",
    "    z_mod = 0.0\n",
    "    gt.move_to(grasp_pose, ur) \n",
    "    print(\"Done moving to block\")\n",
    "    # ur.closeGripper(9) \n",
    "    time.sleep(sleepRate)\n",
    "    gt.move_back(homePose, ur)\n",
    "    ur.openGripper()\n",
    "    gripperController.openGripper()\n",
    "    gripperController.disconnect()\n",
    "    ur.c.disconnect()\n",
    "    ur.r.disconnect()\n",
    "except Exception as e:\n",
    "    gripperController.openGripper()\n",
    "    gripperController.disconnect()\n",
    "    ur.c.disconnect()\n",
    "    ur.r.disconnect()\n",
    "    raise(e)"
   ]
  },
  {
   "cell_type": "code",
   "execution_count": 2,
   "metadata": {},
   "outputs": [
    {
     "name": "stdout",
     "output_type": "stream",
     "text": [
      "Succeeded to open the port\n",
      "Succeeded to change the baudrate\n",
      "Moving speed of dxl ID: 1 set to 100 \n",
      "Moving speed of dxl ID: 2 set to 100 \n",
      "Moving speed of dxl ID: 1 set to 100 \n",
      "Moving speed of dxl ID: 2 set to 100 \n"
     ]
    }
   ],
   "source": [
    "robotIP = \"192.168.0.6\"\n",
    "con = rtde_control.RTDEControlInterface(robotIP)\n",
    "rec = rtde_receive.RTDEReceiveInterface(robotIP)\n",
    "servoPort = \"/dev/ttyACM0\"\n",
    "gripperController = Motors(servoPort)\n",
    "gripperController.torquelimit(600) # used to be 600\n",
    "gripperController.speedlimit(100)\n",
    "ur = ur5.UR5_Interface()\n",
    "ur.gripperController = gripperController\n",
    "ur.c = con\n",
    "ur.r = rec\n",
    "ur.gripperController = gripperController"
   ]
  },
  {
   "cell_type": "code",
   "execution_count": 5,
   "metadata": {},
   "outputs": [
    {
     "name": "stdout",
     "output_type": "stream",
     "text": [
      "Position of dxl ID: 1 set to 303 \n",
      "Position of dxl ID: 2 set to 729 \n"
     ]
    }
   ],
   "source": [
    "ur.openGripper()\n"
   ]
  }
 ],
 "metadata": {
  "kernelspec": {
   "display_name": "Python 3",
   "language": "python",
   "name": "python3"
  },
  "language_info": {
   "codemirror_mode": {
    "name": "ipython",
    "version": 3
   },
   "file_extension": ".py",
   "mimetype": "text/x-python",
   "name": "python",
   "nbconvert_exporter": "python",
   "pygments_lexer": "ipython3",
   "version": "3.10.12"
  }
 },
 "nbformat": 4,
 "nbformat_minor": 2
}
