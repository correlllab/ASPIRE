{
 "cells": [
  {
   "cell_type": "code",
   "execution_count": 2,
   "metadata": {},
   "outputs": [
    {
     "ename": "ModuleNotFoundError",
     "evalue": "No module named 'RealSense'",
     "output_type": "error",
     "traceback": [
      "\u001b[0;31m---------------------------------------------------------------------------\u001b[0m",
      "\u001b[0;31mModuleNotFoundError\u001b[0m                       Traceback (most recent call last)",
      "Cell \u001b[0;32mIn[2], line 1\u001b[0m\n\u001b[0;32m----> 1\u001b[0m \u001b[38;5;28;01mimport\u001b[39;00m \u001b[38;5;21;01mgrab_test\u001b[39;00m \u001b[38;5;28;01mas\u001b[39;00m \u001b[38;5;21;01mgt\u001b[39;00m\n\u001b[1;32m      2\u001b[0m \u001b[38;5;28;01mimport\u001b[39;00m \u001b[38;5;21;01mrtde_control\u001b[39;00m\n\u001b[1;32m      3\u001b[0m \u001b[38;5;28;01mimport\u001b[39;00m \u001b[38;5;21;01mrtde_receive\u001b[39;00m\n",
      "File \u001b[0;32m~/MAGPIE/deprecated/grab_test.py:5\u001b[0m\n\u001b[1;32m      3\u001b[0m \u001b[38;5;28;01mfrom\u001b[39;00m \u001b[38;5;21;01mMotor_code\u001b[39;00m \u001b[38;5;28;01mimport\u001b[39;00m Motors\n\u001b[1;32m      4\u001b[0m \u001b[38;5;28;01mimport\u001b[39;00m \u001b[38;5;21;01mUR5_Interface\u001b[39;00m \u001b[38;5;28;01mas\u001b[39;00m \u001b[38;5;21;01mur5\u001b[39;00m\n\u001b[0;32m----> 5\u001b[0m \u001b[38;5;28;01mimport\u001b[39;00m \u001b[38;5;21;01mRealSense\u001b[39;00m \u001b[38;5;28;01mas\u001b[39;00m \u001b[38;5;21;01mreal\u001b[39;00m\n\u001b[1;32m      6\u001b[0m \u001b[38;5;28;01mimport\u001b[39;00m \u001b[38;5;21;01mnumpy\u001b[39;00m \u001b[38;5;28;01mas\u001b[39;00m \u001b[38;5;21;01mnp\u001b[39;00m\n\u001b[1;32m      7\u001b[0m \u001b[38;5;28;01mimport\u001b[39;00m \u001b[38;5;21;01mspatialmath\u001b[39;00m \u001b[38;5;28;01mas\u001b[39;00m \u001b[38;5;21;01msm\u001b[39;00m\n",
      "\u001b[0;31mModuleNotFoundError\u001b[0m: No module named 'RealSense'"
     ]
    }
   ],
   "source": [
    "import grab_test as gt\n",
    "import rtde_control\n",
    "import rtde_receive\n",
    "from Motor_code import Motors\n",
    "import UR5_Interface as ur5\n",
    "import time\n",
    "import numpy as np"
   ]
  },
  {
   "cell_type": "code",
   "execution_count": 5,
   "metadata": {},
   "outputs": [],
   "source": [
    "# tmat = np.array([[ 0.91574736, -0.35602909,  0.18614527, -0.02848649],\n",
    "#        [-0.40073104, -0.77640133,  0.48643151,  0.14332736],\n",
    "#        [ 0.02866033,  0.52004256,  0.85365937,  0.33750796],\n",
    "#        [ 0.        ,  0.        ,  0.        ,  1.        ]])\n",
    "\n",
    "tmat = np.array([[ 0.88739288, -0.36219116, -0.28522174, -0.08828127],\n",
    "       [ 0.16616609,  0.82838386, -0.53494768, -0.08545051],\n",
    "       [ 0.43002641,  0.42731458,  0.79528582,  0.22066256],\n",
    "       [ 0.        ,  0.        ,  0.        ,  1.        ]])\n",
    "\n",
    "mmc = tmat[:3, 3]\n",
    "tmat[:3, 3] = [0, 0, 0]"
   ]
  },
  {
   "cell_type": "code",
   "execution_count": 6,
   "metadata": {},
   "outputs": [
    {
     "ename": "NameError",
     "evalue": "name 'gripperController' is not defined",
     "output_type": "error",
     "traceback": [
      "\u001b[0;31m---------------------------------------------------------------------------\u001b[0m",
      "\u001b[0;31mRuntimeError\u001b[0m                              Traceback (most recent call last)",
      "Cell \u001b[0;32mIn[6], line 8\u001b[0m\n\u001b[1;32m      7\u001b[0m robotIP \u001b[38;5;241m=\u001b[39m \u001b[38;5;124m\"\u001b[39m\u001b[38;5;124m192.168.0.6\u001b[39m\u001b[38;5;124m\"\u001b[39m\n\u001b[0;32m----> 8\u001b[0m con \u001b[38;5;241m=\u001b[39m \u001b[43mrtde_control\u001b[49m\u001b[38;5;241;43m.\u001b[39;49m\u001b[43mRTDEControlInterface\u001b[49m\u001b[43m(\u001b[49m\u001b[43mrobotIP\u001b[49m\u001b[43m)\u001b[49m\n\u001b[1;32m      9\u001b[0m rec \u001b[38;5;241m=\u001b[39m rtde_receive\u001b[38;5;241m.\u001b[39mRTDEReceiveInterface(robotIP)\n",
      "\u001b[0;31mRuntimeError\u001b[0m: One of the RTDE input registers are already in use! Currently you must disable the EtherNet/IP adapter, PROFINET or any MODBUS unit configured on the robot. This might change in the future.",
      "\nDuring handling of the above exception, another exception occurred:\n",
      "\u001b[0;31mNameError\u001b[0m                                 Traceback (most recent call last)",
      "Cell \u001b[0;32mIn[6], line 43\u001b[0m\n\u001b[1;32m     41\u001b[0m     ur\u001b[38;5;241m.\u001b[39mr\u001b[38;5;241m.\u001b[39mdisconnect()\n\u001b[1;32m     42\u001b[0m \u001b[38;5;28;01mexcept\u001b[39;00m \u001b[38;5;167;01mException\u001b[39;00m \u001b[38;5;28;01mas\u001b[39;00m e:\n\u001b[0;32m---> 43\u001b[0m     \u001b[43mgripperController\u001b[49m\u001b[38;5;241m.\u001b[39mopenGripper()\n\u001b[1;32m     44\u001b[0m     gripperController\u001b[38;5;241m.\u001b[39mdisconnect()\n\u001b[1;32m     45\u001b[0m     ur\u001b[38;5;241m.\u001b[39mc\u001b[38;5;241m.\u001b[39mdisconnect()\n",
      "\u001b[0;31mNameError\u001b[0m: name 'gripperController' is not defined"
     ]
    }
   ],
   "source": [
    "# Full test\n",
    "sleepRate = 1.5\n",
    "\n",
    "grasp_pose = mmc\n",
    "# grasp_pose = [mc[1], -mc[0], mc[2]]\n",
    "try:\n",
    "    robotIP = \"192.168.0.6\"\n",
    "    con = rtde_control.RTDEControlInterface(robotIP)\n",
    "    rec = rtde_receive.RTDEReceiveInterface(robotIP)\n",
    "    servoPort = \"/dev/ttyACM0\"\n",
    "    gripperController = Motors(servoPort)\n",
    "    gripperController.torquelimit(600) # used to be 600\n",
    "    gripperController.speedlimit(100)\n",
    "    ur = ur5.UR5_Interface()\n",
    "    ur.gripperController = gripperController\n",
    "    try:\n",
    "        ur.c = con\n",
    "        ur.r = rec\n",
    "        ur.gripperController = gripperController\n",
    "    except Exception as e:\n",
    "        raise(e)\n",
    "    else:\n",
    "        print(\"UR5 + Gripper Interface Established\")\n",
    "            \n",
    "    # print(f\"res: {projectToWorldCoords(res)} \")\n",
    "    # ur.openGripper() # Open gripper\n",
    "    # ur.testRoutine()\n",
    "    homePose = ur.getPose()\n",
    "    x_mod = 0.0\n",
    "    y_mod = 0.0\n",
    "    z_mod = 0.0\n",
    "    gt.moveToObj(grasp_pose, ur) \n",
    "    print(\"Done moving to block\")\n",
    "    # ur.closeGripper(9) \n",
    "    time.sleep(sleepRate)\n",
    "    gt.moveBackFromObj(homePose, ur)\n",
    "    ur.openGripper()\n",
    "    gripperController.openGripper()\n",
    "    gripperController.disconnect()\n",
    "    ur.c.disconnect()\n",
    "    ur.r.disconnect()\n",
    "except Exception as e:\n",
    "    gripperController.openGripper()\n",
    "    gripperController.disconnect()\n",
    "    ur.c.disconnect()\n",
    "    ur.r.disconnect()\n",
    "    raise(e)"
   ]
  },
  {
   "cell_type": "code",
   "execution_count": 2,
   "metadata": {},
   "outputs": [
    {
     "name": "stdout",
     "output_type": "stream",
     "text": [
      "Succeeded to open the port\n",
      "Succeeded to change the baudrate\n",
      "Moving speed of dxl ID: 1 set to 100 \n",
      "Moving speed of dxl ID: 2 set to 100 \n",
      "Moving speed of dxl ID: 1 set to 100 \n",
      "Moving speed of dxl ID: 2 set to 100 \n"
     ]
    }
   ],
   "source": [
    "robotIP = \"192.168.0.6\"\n",
    "con = rtde_control.RTDEControlInterface(robotIP)\n",
    "rec = rtde_receive.RTDEReceiveInterface(robotIP)\n",
    "servoPort = \"/dev/ttyACM0\"\n",
    "gripperController = Motors(servoPort)\n",
    "gripperController.torquelimit(600) # used to be 600\n",
    "gripperController.speedlimit(100)\n",
    "ur = ur5.UR5_Interface()\n",
    "ur.gripperController = gripperController\n",
    "ur.c = con\n",
    "ur.r = rec\n",
    "ur.gripperController = gripperController"
   ]
  },
  {
   "cell_type": "code",
   "execution_count": 5,
   "metadata": {},
   "outputs": [
    {
     "name": "stdout",
     "output_type": "stream",
     "text": [
      "Position of dxl ID: 1 set to 303 \n",
      "Position of dxl ID: 2 set to 729 \n"
     ]
    }
   ],
   "source": [
    "ur.openGripper()\n"
   ]
  }
 ],
 "metadata": {
  "kernelspec": {
   "display_name": "Python 3",
   "language": "python",
   "name": "python3"
  },
  "language_info": {
   "codemirror_mode": {
    "name": "ipython",
    "version": 3
   },
   "file_extension": ".py",
   "mimetype": "text/x-python",
   "name": "python",
   "nbconvert_exporter": "python",
   "pygments_lexer": "ipython3",
   "version": "3.10.12"
  }
 },
 "nbformat": 4,
 "nbformat_minor": 2
}
