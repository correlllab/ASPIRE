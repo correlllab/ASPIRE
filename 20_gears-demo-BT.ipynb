{
 "cells": [
  {
   "cell_type": "markdown",
   "id": "5cb49abe-a1d4-4250-9100-de2520d57619",
   "metadata": {},
   "source": [
    "# Init"
   ]
  },
  {
   "cell_type": "code",
   "execution_count": 1,
   "id": "f0695e66-f333-4f2e-a358-ce7ebf5ebe20",
   "metadata": {
    "tags": []
   },
   "outputs": [],
   "source": [
    "\n",
    "from pprint import pprint\n",
    "# now = time.time\n",
    "\n",
    "### Special Imports ###\n",
    "import numpy as np\n",
    "from numpy import sqrt, pi\n",
    "\n",
    "\n",
    "\n",
    "### Local Imports ###\n",
    "from magpie.poses import pose_error, rotate_pose, translate_pose\n",
    "from magpie.BT import *\n",
    "\n",
    "\n",
    "### Restore Vars ###\n",
    "%store -r"
   ]
  },
  {
   "cell_type": "markdown",
   "id": "27c0ca49-3b62-4d2c-bf55-6ea57b366860",
   "metadata": {},
   "source": [
    "# Gears Assembly"
   ]
  },
  {
   "cell_type": "code",
   "execution_count": 2,
   "id": "71ac580c-2e4f-412c-b86b-10869d335254",
   "metadata": {
    "tags": []
   },
   "outputs": [],
   "source": [
    "from py_trees.composites import Selector, Sequence\n",
    "from magpie.ur5 import UR5_Interface"
   ]
  },
  {
   "cell_type": "code",
   "execution_count": 3,
   "id": "10d35dbb-4abd-4ef8-9e56-21d3098b8d4a",
   "metadata": {
    "tags": []
   },
   "outputs": [
    {
     "name": "stdout",
     "output_type": "stream",
     "text": [
      "Succeeded to open the port\n",
      "Succeeded to change the baudrate\n",
      "Moving speed of dxl ID: 1 set to 100 \n",
      "Moving speed of dxl ID: 2 set to 100 \n"
     ]
    }
   ],
   "source": [
    "robot = UR5_Interface()\n",
    "robot.start()"
   ]
  },
  {
   "cell_type": "code",
   "execution_count": 4,
   "id": "edbb6b1f-5b8f-42c3-8ae0-1dac03702b4b",
   "metadata": {
    "tags": []
   },
   "outputs": [
    {
     "data": {
      "text/plain": [
       "<py_trees.composites.Sequence at 0x7f07f258dbb0>"
      ]
     },
     "execution_count": 4,
     "metadata": {},
     "output_type": "execute_result"
    }
   ],
   "source": [
    "insertLrgPegSeq = Sequence( \"Insert Large Peg\", memory = 1 )\n",
    "insertLrgPegSeq.add_children([\n",
    "    Pick_at_Pose( graspLrgPegPose, zSAFE = 0.300  , preGraspW_m = 0.040, graspWdth_m = 0.017, name = \"Pick Large Peg\", ctrl = robot ),\n",
    "    Place_at_Pose( insertLrgPegPose, zSAFE = 0.300, postGraspW_m = 0.040, name = \"Insert Large Peg\", ctrl = robot )\n",
    "])\n"
   ]
  },
  {
   "cell_type": "code",
   "execution_count": 5,
   "id": "08abf940-a257-4280-a3c5-cd683c5aaf58",
   "metadata": {
    "tags": []
   },
   "outputs": [
    {
     "data": {
      "text/plain": [
       "<py_trees.composites.Sequence at 0x7f07f151dc10>"
      ]
     },
     "execution_count": 5,
     "metadata": {},
     "output_type": "execute_result"
    }
   ],
   "source": [
    "insertSmlPegSeq = Sequence( \"Insert Small Peg\", memory = 1 )\n",
    "insertSmlPegSeq.add_children([\n",
    "    Pick_at_Pose( graspSmlPegPose, zSAFE = 0.300  , preGraspW_m = 0.040, graspWdth_m = 0.015, name = \"Pick Small Peg\", ctrl = robot ),\n",
    "    Place_at_Pose( insertSmlPegPose, zSAFE = 0.300, postGraspW_m = 0.040, name = \"Insert Small Peg\", ctrl = robot )\n",
    "])\n"
   ]
  },
  {
   "cell_type": "code",
   "execution_count": 6,
   "id": "00bada5b-e3b8-4d8e-9463-587c1c099ae7",
   "metadata": {
    "tags": []
   },
   "outputs": [
    {
     "data": {
      "text/plain": [
       "<py_trees.composites.Sequence at 0x7f083c3c5f10>"
      ]
     },
     "execution_count": 6,
     "metadata": {},
     "output_type": "execute_result"
    }
   ],
   "source": [
    "insertMidGearSeq = Sequence( \"Insert Middle Gear\", memory = 1 )\n",
    "insertMidGearSeq.add_children([\n",
    "    Pick_at_Pose( graspMidGearPose, zSAFE = 0.300  , preGraspW_m = 0.055, graspWdth_m = 0.040, name = \"Pick Middle Gear\", ctrl = robot ),\n",
    "    Place_at_Pose( insertMidGearPose, zSAFE = 0.300, postGraspW_m = 0.055, name = \"Insert Middle Gear\", ctrl = robot )\n",
    "])\n"
   ]
  },
  {
   "cell_type": "code",
   "execution_count": 7,
   "id": "81af2c86-37fb-4199-92b4-c750ac1a0fdf",
   "metadata": {
    "tags": []
   },
   "outputs": [
    {
     "data": {
      "text/plain": [
       "<py_trees.composites.Sequence at 0x7f07f152edc0>"
      ]
     },
     "execution_count": 7,
     "metadata": {},
     "output_type": "execute_result"
    }
   ],
   "source": [
    "insertSmlGearSeq = Sequence( \"Insert Small Gear\", memory = 1 )\n",
    "upPose = translate_pose( insertSmlGearPose, [0.0, 0.0, -0.050] )\n",
    "insertSmlGearSeq.add_children([\n",
    "    Pick_at_Pose( graspSmlGearPose, zSAFE = 0.300  , preGraspW_m = 0.065, graspWdth_m = 0.045, name = \"Pick Small Gear\", ctrl = robot ),\n",
    "    Place_at_Pose( insertSmlGearPose, zSAFE = 0.300, postGraspW_m = 0.065, name = \"Insert Small Gear\", ctrl = robot ),\n",
    "    Move_Arm( upPose, ctrl = robot ),\n",
    "])\n"
   ]
  },
  {
   "cell_type": "code",
   "execution_count": 8,
   "id": "228f3da5-2b72-4714-a37f-15427d7eb656",
   "metadata": {
    "tags": []
   },
   "outputs": [
    {
     "data": {
      "text/plain": [
       "<py_trees.composites.Sequence at 0x7f07f152e910>"
      ]
     },
     "execution_count": 8,
     "metadata": {},
     "output_type": "execute_result"
    }
   ],
   "source": [
    "insertLrgGearSeq = Sequence( \"Insert Large Gear\", memory = 1 )\n",
    "turnPose = rotate_pose( insertLrgGearPose, [0.0,0.0,pi/3] )\n",
    "insertLrgGearSeq.add_children([\n",
    "    Pick_at_Pose( graspLrgGearPose, zSAFE = 0.300  , preGraspW_m = 0.042, graspWdth_m = 0.03, name = \"Pick Large Gear\", ctrl = robot ),\n",
    "    Place_at_Pose( insertLrgGearPose, zSAFE = 0.300, postGraspW_m = 0.042, name = \"Insert Large Gear\", ctrl = robot ),\n",
    "    Set_Gripper( 0.020, name = \"Close\", ctrl = robot ),\n",
    "    Move_Arm( turnPose, ctrl = robot ),\n",
    "    Set_Gripper( 0.045, name = \"Close\", ctrl = robot ),\n",
    "])\n"
   ]
  },
  {
   "cell_type": "code",
   "execution_count": 9,
   "id": "3065f1d1-c8df-4bb7-a590-c2642fe70ad1",
   "metadata": {
    "tags": []
   },
   "outputs": [
    {
     "name": "stdout",
     "output_type": "stream",
     "text": [
      "About to run <class 'py_trees.composites.Sequence'> named Full Sequence at 2023-05-08_18-56-43 with 4.0 Hz update frequency ...\n",
      "Running ...\n",
      "\n",
      "Position of dxl ID: 1 set to 483 \n",
      "Position of dxl ID: 2 set to 556 \n",
      "Position of dxl ID: 1 set to 534 \n",
      "Position of dxl ID: 2 set to 506 \n",
      "Position of dxl ID: 1 set to 483 \n",
      "Position of dxl ID: 2 set to 556 \n",
      "Position of dxl ID: 1 set to 483 \n",
      "Position of dxl ID: 2 set to 556 \n",
      "\n",
      "--------- Tick 50 ---------\n",
      "\n",
      "Root node, Name: Full Sequence , Status: Status.RUNNING\n",
      "\n",
      "\n",
      "Position of dxl ID: 1 set to 538 \n",
      "Position of dxl ID: 2 set to 501 \n",
      "Position of dxl ID: 1 set to 483 \n",
      "Position of dxl ID: 2 set to 556 \n",
      "Position of dxl ID: 1 set to 450 \n",
      "Position of dxl ID: 2 set to 589 \n",
      "\n",
      "--------- Tick 100 ---------\n",
      "\n",
      "Root node, Name: Full Sequence , Status: Status.RUNNING\n",
      "\n",
      "\n",
      "Position of dxl ID: 1 set to 483 \n",
      "Position of dxl ID: 2 set to 556 \n",
      "\n",
      "--------- Tick 150 ---------\n",
      "\n",
      "Root node, Name: Full Sequence , Status: Status.RUNNING\n",
      "\n",
      "\n",
      "Position of dxl ID: 1 set to 450 \n",
      "Position of dxl ID: 2 set to 589 \n",
      "Position of dxl ID: 1 set to 427 \n",
      "Position of dxl ID: 2 set to 612 \n",
      "Position of dxl ID: 1 set to 472 \n",
      "Position of dxl ID: 2 set to 567 \n",
      "\n",
      "--------- Tick 200 ---------\n",
      "\n",
      "Root node, Name: Full Sequence , Status: Status.RUNNING\n",
      "\n",
      "\n",
      "Position of dxl ID: 1 set to 427 \n",
      "Position of dxl ID: 2 set to 612 \n",
      "Position of dxl ID: 1 set to 479 \n",
      "Position of dxl ID: 2 set to 560 \n",
      "Position of dxl ID: 1 set to 505 \n",
      "Position of dxl ID: 2 set to 534 \n",
      "\n",
      "--------- Tick 250 ---------\n",
      "\n",
      "Root node, Name: Full Sequence , Status: Status.RUNNING\n",
      "\n",
      "\n",
      "Position of dxl ID: 1 set to 479 \n",
      "Position of dxl ID: 2 set to 560 \n",
      "Position of dxl ID: 1 set to 527 \n",
      "Position of dxl ID: 2 set to 512 \n",
      "Position of dxl ID: 1 set to 472 \n",
      "Position of dxl ID: 2 set to 567 \n",
      "Root node Full Sequence succeeded!\n",
      "\n",
      "\n",
      "Run completed! with status: Status.SUCCESS \n",
      "\n",
      "\n",
      "Root node Full Sequence was killed by the running script!\n"
     ]
    }
   ],
   "source": [
    "fullSequence = Sequence( \"Full Sequence\", memory = 1 )\n",
    "fullSequence.add_children([\n",
    "    insertLrgPegSeq,\n",
    "    insertSmlPegSeq,\n",
    "    insertMidGearSeq,\n",
    "    insertSmlGearSeq,\n",
    "    insertLrgGearSeq,\n",
    "])\n",
    "\n",
    "run_BT_until_done( fullSequence )"
   ]
  },
  {
   "cell_type": "code",
   "execution_count": null,
   "id": "c8bfe63d-3126-4140-9011-c99791fdfe8e",
   "metadata": {},
   "outputs": [],
   "source": []
  },
  {
   "cell_type": "markdown",
   "id": "441d2b37-5101-42f4-baae-e489f110287e",
   "metadata": {},
   "source": [
    "# Test"
   ]
  },
  {
   "cell_type": "code",
   "execution_count": 10,
   "id": "35e35743-eac1-435a-bb30-ae29fe0d4554",
   "metadata": {
    "tags": []
   },
   "outputs": [],
   "source": [
    "# b1 = Move_Arm( poseA, \"Move to A\", ctrl = robot )"
   ]
  },
  {
   "cell_type": "code",
   "execution_count": 11,
   "id": "ad42f9d1-9544-4a4c-9db1-56038293f7cc",
   "metadata": {
    "tags": []
   },
   "outputs": [],
   "source": [
    "# run_BT_until_done( b1 )"
   ]
  },
  {
   "cell_type": "code",
   "execution_count": 12,
   "id": "3bc361bc-355d-4b85-aea3-685d7d666ec0",
   "metadata": {
    "tags": []
   },
   "outputs": [],
   "source": [
    "# b2 = Move_Arm( poseB, \"Move to B\", ctrl = robot )"
   ]
  },
  {
   "cell_type": "code",
   "execution_count": 13,
   "id": "42952622-ab39-46f0-ace6-df6c92105d57",
   "metadata": {
    "tags": []
   },
   "outputs": [],
   "source": [
    "# run_BT_until_done( b2 )"
   ]
  },
  {
   "cell_type": "code",
   "execution_count": 14,
   "id": "8afcff19-4a2b-42d5-8638-8db6d50bf9eb",
   "metadata": {
    "tags": []
   },
   "outputs": [],
   "source": [
    "# s1 = Sequence( \"Jog Jog\", True )\n",
    "# s1.add_children([\n",
    "#     Jog_Safe( poseB, zSAFE = 0.300, name = \"Jog B\", ctrl = robot ),\n",
    "#     Jog_Safe( poseA, zSAFE = 0.300, name = \"Jog A\", ctrl = robot ),\n",
    "# ])"
   ]
  },
  {
   "cell_type": "code",
   "execution_count": 15,
   "id": "1229fe9b-0483-4e8f-a05c-fee7fc3df386",
   "metadata": {
    "tags": []
   },
   "outputs": [],
   "source": [
    "# run_BT_until_done( s1 )"
   ]
  },
  {
   "cell_type": "code",
   "execution_count": 16,
   "id": "af193020-fdeb-4ddc-94da-7571b417248a",
   "metadata": {
    "tags": []
   },
   "outputs": [],
   "source": [
    "robot.stop()"
   ]
  },
  {
   "cell_type": "markdown",
   "id": "9a883c00-8a4c-4dfd-b663-585c59c19f53",
   "metadata": {},
   "source": [
    "# Setup"
   ]
  },
  {
   "cell_type": "code",
   "execution_count": 17,
   "id": "12c015a6-c2dc-44a3-8f46-7d536e3acd02",
   "metadata": {
    "tags": []
   },
   "outputs": [],
   "source": [
    "# robot.align_tcp()"
   ]
  },
  {
   "cell_type": "code",
   "execution_count": 18,
   "id": "f4d784a8-3f13-4d63-8cb0-fb36ce37ab32",
   "metadata": {
    "tags": []
   },
   "outputs": [],
   "source": [
    "# robot.set_gripper( 0.030 )"
   ]
  },
  {
   "cell_type": "code",
   "execution_count": 19,
   "id": "d530259d-7dcd-43ae-a88a-159a2572afde",
   "metadata": {
    "tags": []
   },
   "outputs": [],
   "source": [
    "# robot.set_gripper( 0.04 )"
   ]
  },
  {
   "cell_type": "code",
   "execution_count": 20,
   "id": "4b585ad1-af87-4c18-9256-7985ef1f4dd5",
   "metadata": {
    "tags": []
   },
   "outputs": [],
   "source": [
    "# graspLrgPegPose = robot.get_tcp_pose()\n",
    "# %store graspLrgPegPose\n",
    "# robot.moveL( graspLrgPegPose )"
   ]
  },
  {
   "cell_type": "code",
   "execution_count": 21,
   "id": "85b54dcd-bbaf-4d40-9c82-be3d48a24c63",
   "metadata": {
    "tags": []
   },
   "outputs": [],
   "source": [
    "# insertLrgPegPose = robot.get_tcp_pose()\n",
    "# %store insertLrgPegPose"
   ]
  },
  {
   "cell_type": "code",
   "execution_count": 22,
   "id": "3ba46ccd-f0aa-42b1-9e03-bd8575e6dbf8",
   "metadata": {
    "tags": []
   },
   "outputs": [],
   "source": [
    "# graspSmlPegPose = robot.get_tcp_pose()\n",
    "# %store graspSmlPegPose\n",
    "# robot.moveL( graspSmlPegPose )"
   ]
  },
  {
   "cell_type": "code",
   "execution_count": 23,
   "id": "d3697230-59b7-4ec7-a77d-821e6d0bb7fa",
   "metadata": {
    "tags": []
   },
   "outputs": [],
   "source": [
    "# insertSmlPegPose = robot.get_tcp_pose()\n",
    "# %store insertSmlPegPose"
   ]
  },
  {
   "cell_type": "code",
   "execution_count": 24,
   "id": "67d5b981-f836-4de0-b61d-e827199d7110",
   "metadata": {
    "tags": []
   },
   "outputs": [],
   "source": [
    "# graspMidGearPose = robot.get_tcp_pose()\n",
    "# %store graspMidGearPose\n",
    "# robot.moveL( graspMidGearPose )"
   ]
  },
  {
   "cell_type": "code",
   "execution_count": 25,
   "id": "2174e497-3bd6-4580-996c-fcc47e1a42a2",
   "metadata": {
    "tags": []
   },
   "outputs": [],
   "source": [
    "# insertMidGearPose = robot.get_tcp_pose()\n",
    "# %store insertMidGearPose"
   ]
  },
  {
   "cell_type": "code",
   "execution_count": 26,
   "id": "e93bf792-4a1c-41b9-888b-0807f107b472",
   "metadata": {
    "tags": []
   },
   "outputs": [],
   "source": [
    "# graspSmlGearPose = robot.get_tcp_pose()\n",
    "# %store graspSmlGearPose\n",
    "# robot.moveL( graspSmlGearPose )"
   ]
  },
  {
   "cell_type": "code",
   "execution_count": 27,
   "id": "cc726c0b-9ba0-43ac-aa56-a1d1c4f55944",
   "metadata": {
    "tags": []
   },
   "outputs": [],
   "source": [
    "# insertSmlGearPose = robot.get_tcp_pose()\n",
    "# %store insertSmlGearPose"
   ]
  },
  {
   "cell_type": "code",
   "execution_count": 28,
   "id": "fe756c96-5ddd-4617-a47c-b660d1b4e7c4",
   "metadata": {
    "tags": []
   },
   "outputs": [],
   "source": [
    "# graspLrgGearPose = robot.get_tcp_pose()\n",
    "# %store graspLrgGearPose\n",
    "# robot.moveL( graspLrgGearPose )"
   ]
  },
  {
   "cell_type": "code",
   "execution_count": 29,
   "id": "56cb77d4-cb23-4093-b03f-8dcf3af02e08",
   "metadata": {
    "tags": []
   },
   "outputs": [],
   "source": [
    "# insertLrgGearPose = robot.get_tcp_pose()\n",
    "# %store insertLrgGearPose"
   ]
  },
  {
   "cell_type": "code",
   "execution_count": 30,
   "id": "28f2a054-c8c2-4021-b433-89134f14d201",
   "metadata": {
    "tags": []
   },
   "outputs": [],
   "source": [
    "# robot.ctrl.reconnect()"
   ]
  },
  {
   "cell_type": "code",
   "execution_count": 31,
   "id": "cdf2cd67-c836-4be1-bcba-128a537c77ba",
   "metadata": {},
   "outputs": [],
   "source": [
    "# robot.get_tcp_pose()"
   ]
  },
  {
   "cell_type": "code",
   "execution_count": null,
   "id": "657a649e-0838-42f6-8daa-a6e3f7beaa3d",
   "metadata": {},
   "outputs": [],
   "source": []
  }
 ],
 "metadata": {
  "kernelspec": {
   "display_name": "Python 3 (ipykernel)",
   "language": "python",
   "name": "python3"
  },
  "language_info": {
   "codemirror_mode": {
    "name": "ipython",
    "version": 3
   },
   "file_extension": ".py",
   "mimetype": "text/x-python",
   "name": "python",
   "nbconvert_exporter": "python",
   "pygments_lexer": "ipython3",
   "version": "3.9.16"
  }
 },
 "nbformat": 4,
 "nbformat_minor": 5
}
