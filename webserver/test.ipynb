{
 "cells": [
  {
   "cell_type": "code",
   "execution_count": 7,
   "metadata": {},
   "outputs": [],
   "source": [
    "import openai\n",
    "import os\n",
    "import sys\n",
    "sys.path.append(\"../\")\n",
    "from magpie.prompt_planner.prompts import mp_prompt_thinker_coder_muk as mptc\n",
    "from magpie.prompt_planner import conversation"
   ]
  },
  {
   "cell_type": "code",
   "execution_count": 2,
   "metadata": {},
   "outputs": [],
   "source": [
    "import numpy as np\n",
    "from PIL import Image\n",
    "import base64\n",
    "import io\n",
    "import cv2 \n",
    "\n",
    "def encode_image(img):\n",
    "    # Convert NumPy array to base64 encoded string\n",
    "    return base64.b64encode(img).decode('utf-8')\n",
    "\n",
    "\n",
    "i = encode_image(np.array(Image.open(\"static/favicon.jpg\")))"
   ]
  },
  {
   "cell_type": "code",
   "execution_count": 10,
   "metadata": {},
   "outputs": [],
   "source": [
    "MODEL = \"gpt-3.5-turbo\"\n",
    "import dataclasses\n",
    "from typing import Any"
   ]
  },
  {
   "cell_type": "code",
   "execution_count": 12,
   "metadata": {},
   "outputs": [
    {
     "ename": "AttributeError",
     "evalue": "module 'magpie.prompt_planner.prompts.mp_prompt_thinker_coder_muk' has no attribute 'PromptThinkerCoder'",
     "output_type": "error",
     "traceback": [
      "\u001b[0;31m---------------------------------------------------------------------------\u001b[0m",
      "\u001b[0;31mAttributeError\u001b[0m                            Traceback (most recent call last)",
      "Cell \u001b[0;32mIn[12], line 10\u001b[0m\n\u001b[1;32m      3\u001b[0m   client: \u001b[38;5;28;01mNone\u001b[39;00m\n\u001b[1;32m      4\u001b[0m   prompts: \u001b[38;5;28mdict\u001b[39m[\u001b[38;5;28mstr\u001b[39m, \u001b[38;5;28mtype\u001b[39m[Any]]\n\u001b[1;32m      6\u001b[0m ALL_TASKS \u001b[38;5;241m=\u001b[39m {\n\u001b[1;32m      7\u001b[0m     \u001b[38;5;124m'\u001b[39m\u001b[38;5;124mmagpie\u001b[39m\u001b[38;5;124m'\u001b[39m: TaskConfig(\n\u001b[1;32m      8\u001b[0m         client\u001b[38;5;241m=\u001b[39m\u001b[38;5;28;01mNone\u001b[39;00m,\n\u001b[1;32m      9\u001b[0m         prompts\u001b[38;5;241m=\u001b[39m{\n\u001b[0;32m---> 10\u001b[0m             \u001b[38;5;124m'\u001b[39m\u001b[38;5;124mthinker_coder\u001b[39m\u001b[38;5;124m'\u001b[39m: \u001b[43mmptc\u001b[49m\u001b[38;5;241;43m.\u001b[39;49m\u001b[43mPromptThinkerCoder\u001b[49m,\n\u001b[1;32m     11\u001b[0m         },\n\u001b[1;32m     12\u001b[0m     ),\n\u001b[1;32m     13\u001b[0m }\n",
      "\u001b[0;31mAttributeError\u001b[0m: module 'magpie.prompt_planner.prompts.mp_prompt_thinker_coder_muk' has no attribute 'PromptThinkerCoder'"
     ]
    }
   ],
   "source": [
    "@dataclasses.dataclass(frozen=True)\n",
    "class TaskConfig:\n",
    "  client: None\n",
    "  prompts: dict[str, type[Any]]\n",
    "\n",
    "ALL_TASKS = {\n",
    "    'magpie': TaskConfig(\n",
    "        client=None,\n",
    "        prompts={\n",
    "            'thinker_coder': mptc.PromptThinkerCoder,\n",
    "        },\n",
    "    ),\n",
    "}\n"
   ]
  },
  {
   "cell_type": "code",
   "execution_count": null,
   "metadata": {},
   "outputs": [],
   "source": [
    "\n",
    "\n",
    "\n"
   ]
  }
 ],
 "metadata": {
  "kernelspec": {
   "display_name": "Python 3",
   "language": "python",
   "name": "python3"
  },
  "language_info": {
   "codemirror_mode": {
    "name": "ipython",
    "version": 3
   },
   "file_extension": ".py",
   "mimetype": "text/x-python",
   "name": "python",
   "nbconvert_exporter": "python",
   "pygments_lexer": "ipython3",
   "version": "3.10.12"
  }
 },
 "nbformat": 4,
 "nbformat_minor": 2
}
